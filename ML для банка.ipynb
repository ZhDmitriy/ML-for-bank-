{
 "cells": [
  {
   "cell_type": "markdown",
   "id": "146421f3",
   "metadata": {},
   "source": [
    "Датасет взят с сайта: https://www.kaggle.com/datasets/radheshyamkollipara/bank-customer-churn\n",
    "\n",
    "Нужно создать модель машинного обучения с оптимизации по времени с предсказанием того уйдет ли клиент из банка по сроку действия (Tenure), установленный порог для классификации = 2. \n",
    "\n",
    "Проэксперементировать с другими порогами: [2, 1, 8, 7, 4, 6, 3, 10, 5, 9, 0]. \n",
    "\n",
    "Цель: создать модель машинного обучения (задача классификации) с метрикой по accuracy 89% и выше (посмотреть на recall и precision). "
   ]
  },
  {
   "cell_type": "code",
   "execution_count": 241,
   "id": "5bed1d73",
   "metadata": {},
   "outputs": [],
   "source": [
    "#Импортируем нужные библиотеки\n",
    "from sklearn.model_selection import train_test_split\n",
    "from sklearn.linear_model import LogisticRegression\n",
    "from sklearn.neighbors import KNeighborsClassifier\n",
    "from sklearn.naive_bayes import GaussianNB\n",
    "from sklearn.tree import DecisionTreeClassifier\n",
    "from sklearn.ensemble import AdaBoostClassifier, GradientBoostingClassifier\n",
    "from xgboost import XGBClassifier\n",
    "\n",
    "from sklearn.ensemble import RandomForestClassifier\n",
    "from category_encoders.one_hot import OrdinalEncoder\n",
    "\n",
    "from sklearn.metrics import roc_auc_score\n",
    "from sklearn.metrics import accuracy_score\n",
    "\n",
    "import pandas as pd \n",
    "import numpy as np\n",
    "import matplotlib.pyplot as plt\n",
    "import seaborn as sns\n",
    "\n",
    "from scipy import stats\n",
    "\n",
    "from sklearn import tree\n",
    "import graphviz\n",
    "import warnings\n",
    "warnings.filterwarnings(\"ignore\")"
   ]
  },
  {
   "cell_type": "code",
   "execution_count": 139,
   "id": "d7b4970b",
   "metadata": {},
   "outputs": [
    {
     "name": "stdout",
     "output_type": "stream",
     "text": [
      "Requirement already satisfied: graphviz in d:\\anaconda\\lib\\site-packages (0.20.1)\n"
     ]
    }
   ],
   "source": [
    "!pip install graphviz"
   ]
  },
  {
   "cell_type": "code",
   "execution_count": 140,
   "id": "c664645b",
   "metadata": {},
   "outputs": [
    {
     "name": "stdout",
     "output_type": "stream",
     "text": [
      "Requirement already satisfied: category_encoders in d:\\anaconda\\lib\\site-packages (2.6.1)\n",
      "Requirement already satisfied: numpy>=1.14.0 in d:\\anaconda\\lib\\site-packages (from category_encoders) (1.24.3)\n",
      "Requirement already satisfied: scikit-learn>=0.20.0 in d:\\anaconda\\lib\\site-packages (from category_encoders) (1.2.2)\n",
      "Requirement already satisfied: scipy>=1.0.0 in d:\\anaconda\\lib\\site-packages (from category_encoders) (1.10.1)\n",
      "Requirement already satisfied: statsmodels>=0.9.0 in d:\\anaconda\\lib\\site-packages (from category_encoders) (0.13.5)\n",
      "Requirement already satisfied: pandas>=1.0.5 in d:\\anaconda\\lib\\site-packages (from category_encoders) (1.5.3)\n",
      "Requirement already satisfied: patsy>=0.5.1 in d:\\anaconda\\lib\\site-packages (from category_encoders) (0.5.3)\n",
      "Requirement already satisfied: python-dateutil>=2.8.1 in d:\\anaconda\\lib\\site-packages (from pandas>=1.0.5->category_encoders) (2.8.2)\n",
      "Requirement already satisfied: pytz>=2020.1 in d:\\anaconda\\lib\\site-packages (from pandas>=1.0.5->category_encoders) (2022.7)\n",
      "Requirement already satisfied: six in d:\\anaconda\\lib\\site-packages (from patsy>=0.5.1->category_encoders) (1.16.0)\n",
      "Requirement already satisfied: joblib>=1.1.1 in d:\\anaconda\\lib\\site-packages (from scikit-learn>=0.20.0->category_encoders) (1.2.0)\n",
      "Requirement already satisfied: threadpoolctl>=2.0.0 in d:\\anaconda\\lib\\site-packages (from scikit-learn>=0.20.0->category_encoders) (2.2.0)\n",
      "Requirement already satisfied: packaging>=21.3 in d:\\anaconda\\lib\\site-packages (from statsmodels>=0.9.0->category_encoders) (23.0)\n"
     ]
    }
   ],
   "source": [
    "!pip install category_encoders"
   ]
  },
  {
   "cell_type": "code",
   "execution_count": 141,
   "id": "fecc6398",
   "metadata": {},
   "outputs": [],
   "source": [
    "df = pd.read_csv(\"Customer-Churn-Records.csv\")"
   ]
  },
  {
   "cell_type": "code",
   "execution_count": 142,
   "id": "bbf4d74b",
   "metadata": {},
   "outputs": [
    {
     "data": {
      "text/html": [
       "<div>\n",
       "<style scoped>\n",
       "    .dataframe tbody tr th:only-of-type {\n",
       "        vertical-align: middle;\n",
       "    }\n",
       "\n",
       "    .dataframe tbody tr th {\n",
       "        vertical-align: top;\n",
       "    }\n",
       "\n",
       "    .dataframe thead th {\n",
       "        text-align: right;\n",
       "    }\n",
       "</style>\n",
       "<table border=\"1\" class=\"dataframe\">\n",
       "  <thead>\n",
       "    <tr style=\"text-align: right;\">\n",
       "      <th></th>\n",
       "      <th>RowNumber</th>\n",
       "      <th>CustomerId</th>\n",
       "      <th>Surname</th>\n",
       "      <th>CreditScore</th>\n",
       "      <th>Geography</th>\n",
       "      <th>Gender</th>\n",
       "      <th>Age</th>\n",
       "      <th>Tenure</th>\n",
       "      <th>Balance</th>\n",
       "      <th>NumOfProducts</th>\n",
       "      <th>HasCrCard</th>\n",
       "      <th>IsActiveMember</th>\n",
       "      <th>EstimatedSalary</th>\n",
       "      <th>Exited</th>\n",
       "      <th>Complain</th>\n",
       "      <th>Satisfaction Score</th>\n",
       "      <th>Card Type</th>\n",
       "      <th>Point Earned</th>\n",
       "    </tr>\n",
       "  </thead>\n",
       "  <tbody>\n",
       "    <tr>\n",
       "      <th>0</th>\n",
       "      <td>1</td>\n",
       "      <td>15634602</td>\n",
       "      <td>Hargrave</td>\n",
       "      <td>619</td>\n",
       "      <td>France</td>\n",
       "      <td>Female</td>\n",
       "      <td>42</td>\n",
       "      <td>2</td>\n",
       "      <td>0.00</td>\n",
       "      <td>1</td>\n",
       "      <td>1</td>\n",
       "      <td>1</td>\n",
       "      <td>101348.88</td>\n",
       "      <td>1</td>\n",
       "      <td>1</td>\n",
       "      <td>2</td>\n",
       "      <td>DIAMOND</td>\n",
       "      <td>464</td>\n",
       "    </tr>\n",
       "    <tr>\n",
       "      <th>1</th>\n",
       "      <td>2</td>\n",
       "      <td>15647311</td>\n",
       "      <td>Hill</td>\n",
       "      <td>608</td>\n",
       "      <td>Spain</td>\n",
       "      <td>Female</td>\n",
       "      <td>41</td>\n",
       "      <td>1</td>\n",
       "      <td>83807.86</td>\n",
       "      <td>1</td>\n",
       "      <td>0</td>\n",
       "      <td>1</td>\n",
       "      <td>112542.58</td>\n",
       "      <td>0</td>\n",
       "      <td>1</td>\n",
       "      <td>3</td>\n",
       "      <td>DIAMOND</td>\n",
       "      <td>456</td>\n",
       "    </tr>\n",
       "    <tr>\n",
       "      <th>2</th>\n",
       "      <td>3</td>\n",
       "      <td>15619304</td>\n",
       "      <td>Onio</td>\n",
       "      <td>502</td>\n",
       "      <td>France</td>\n",
       "      <td>Female</td>\n",
       "      <td>42</td>\n",
       "      <td>8</td>\n",
       "      <td>159660.80</td>\n",
       "      <td>3</td>\n",
       "      <td>1</td>\n",
       "      <td>0</td>\n",
       "      <td>113931.57</td>\n",
       "      <td>1</td>\n",
       "      <td>1</td>\n",
       "      <td>3</td>\n",
       "      <td>DIAMOND</td>\n",
       "      <td>377</td>\n",
       "    </tr>\n",
       "    <tr>\n",
       "      <th>3</th>\n",
       "      <td>4</td>\n",
       "      <td>15701354</td>\n",
       "      <td>Boni</td>\n",
       "      <td>699</td>\n",
       "      <td>France</td>\n",
       "      <td>Female</td>\n",
       "      <td>39</td>\n",
       "      <td>1</td>\n",
       "      <td>0.00</td>\n",
       "      <td>2</td>\n",
       "      <td>0</td>\n",
       "      <td>0</td>\n",
       "      <td>93826.63</td>\n",
       "      <td>0</td>\n",
       "      <td>0</td>\n",
       "      <td>5</td>\n",
       "      <td>GOLD</td>\n",
       "      <td>350</td>\n",
       "    </tr>\n",
       "    <tr>\n",
       "      <th>4</th>\n",
       "      <td>5</td>\n",
       "      <td>15737888</td>\n",
       "      <td>Mitchell</td>\n",
       "      <td>850</td>\n",
       "      <td>Spain</td>\n",
       "      <td>Female</td>\n",
       "      <td>43</td>\n",
       "      <td>2</td>\n",
       "      <td>125510.82</td>\n",
       "      <td>1</td>\n",
       "      <td>1</td>\n",
       "      <td>1</td>\n",
       "      <td>79084.10</td>\n",
       "      <td>0</td>\n",
       "      <td>0</td>\n",
       "      <td>5</td>\n",
       "      <td>GOLD</td>\n",
       "      <td>425</td>\n",
       "    </tr>\n",
       "  </tbody>\n",
       "</table>\n",
       "</div>"
      ],
      "text/plain": [
       "   RowNumber  CustomerId   Surname  CreditScore Geography  Gender  Age  \\\n",
       "0          1    15634602  Hargrave          619    France  Female   42   \n",
       "1          2    15647311      Hill          608     Spain  Female   41   \n",
       "2          3    15619304      Onio          502    France  Female   42   \n",
       "3          4    15701354      Boni          699    France  Female   39   \n",
       "4          5    15737888  Mitchell          850     Spain  Female   43   \n",
       "\n",
       "   Tenure    Balance  NumOfProducts  HasCrCard  IsActiveMember  \\\n",
       "0       2       0.00              1          1               1   \n",
       "1       1   83807.86              1          0               1   \n",
       "2       8  159660.80              3          1               0   \n",
       "3       1       0.00              2          0               0   \n",
       "4       2  125510.82              1          1               1   \n",
       "\n",
       "   EstimatedSalary  Exited  Complain  Satisfaction Score Card Type  \\\n",
       "0        101348.88       1         1                   2   DIAMOND   \n",
       "1        112542.58       0         1                   3   DIAMOND   \n",
       "2        113931.57       1         1                   3   DIAMOND   \n",
       "3         93826.63       0         0                   5      GOLD   \n",
       "4         79084.10       0         0                   5      GOLD   \n",
       "\n",
       "   Point Earned  \n",
       "0           464  \n",
       "1           456  \n",
       "2           377  \n",
       "3           350  \n",
       "4           425  "
      ]
     },
     "execution_count": 142,
     "metadata": {},
     "output_type": "execute_result"
    }
   ],
   "source": [
    "df.head(5)"
   ]
  },
  {
   "cell_type": "markdown",
   "id": "aa14cbba",
   "metadata": {},
   "source": [
    "Для удобства заменим колонку RowNumber на id"
   ]
  },
  {
   "cell_type": "code",
   "execution_count": 143,
   "id": "5d94969e",
   "metadata": {},
   "outputs": [
    {
     "data": {
      "text/plain": [
       "['id', 'CustomerId', 'Surname', 'CreditScore', 'Geography']"
      ]
     },
     "execution_count": 143,
     "metadata": {},
     "output_type": "execute_result"
    }
   ],
   "source": [
    "cloumn_array = list(df.columns)\n",
    "cloumn_array[0] = \"id\"\n",
    "cloumn_array[:5]"
   ]
  },
  {
   "cell_type": "code",
   "execution_count": 144,
   "id": "70eb3eed",
   "metadata": {},
   "outputs": [],
   "source": [
    "df.columns = cloumn_array"
   ]
  },
  {
   "cell_type": "code",
   "execution_count": 145,
   "id": "e1b6816f",
   "metadata": {},
   "outputs": [
    {
     "data": {
      "text/html": [
       "<div>\n",
       "<style scoped>\n",
       "    .dataframe tbody tr th:only-of-type {\n",
       "        vertical-align: middle;\n",
       "    }\n",
       "\n",
       "    .dataframe tbody tr th {\n",
       "        vertical-align: top;\n",
       "    }\n",
       "\n",
       "    .dataframe thead th {\n",
       "        text-align: right;\n",
       "    }\n",
       "</style>\n",
       "<table border=\"1\" class=\"dataframe\">\n",
       "  <thead>\n",
       "    <tr style=\"text-align: right;\">\n",
       "      <th></th>\n",
       "      <th>id</th>\n",
       "      <th>CustomerId</th>\n",
       "      <th>Surname</th>\n",
       "      <th>CreditScore</th>\n",
       "      <th>Geography</th>\n",
       "      <th>Gender</th>\n",
       "      <th>Age</th>\n",
       "      <th>Tenure</th>\n",
       "      <th>Balance</th>\n",
       "      <th>NumOfProducts</th>\n",
       "      <th>HasCrCard</th>\n",
       "      <th>IsActiveMember</th>\n",
       "      <th>EstimatedSalary</th>\n",
       "      <th>Exited</th>\n",
       "      <th>Complain</th>\n",
       "      <th>Satisfaction Score</th>\n",
       "      <th>Card Type</th>\n",
       "      <th>Point Earned</th>\n",
       "    </tr>\n",
       "  </thead>\n",
       "  <tbody>\n",
       "    <tr>\n",
       "      <th>0</th>\n",
       "      <td>1</td>\n",
       "      <td>15634602</td>\n",
       "      <td>Hargrave</td>\n",
       "      <td>619</td>\n",
       "      <td>France</td>\n",
       "      <td>Female</td>\n",
       "      <td>42</td>\n",
       "      <td>2</td>\n",
       "      <td>0.00</td>\n",
       "      <td>1</td>\n",
       "      <td>1</td>\n",
       "      <td>1</td>\n",
       "      <td>101348.88</td>\n",
       "      <td>1</td>\n",
       "      <td>1</td>\n",
       "      <td>2</td>\n",
       "      <td>DIAMOND</td>\n",
       "      <td>464</td>\n",
       "    </tr>\n",
       "    <tr>\n",
       "      <th>1</th>\n",
       "      <td>2</td>\n",
       "      <td>15647311</td>\n",
       "      <td>Hill</td>\n",
       "      <td>608</td>\n",
       "      <td>Spain</td>\n",
       "      <td>Female</td>\n",
       "      <td>41</td>\n",
       "      <td>1</td>\n",
       "      <td>83807.86</td>\n",
       "      <td>1</td>\n",
       "      <td>0</td>\n",
       "      <td>1</td>\n",
       "      <td>112542.58</td>\n",
       "      <td>0</td>\n",
       "      <td>1</td>\n",
       "      <td>3</td>\n",
       "      <td>DIAMOND</td>\n",
       "      <td>456</td>\n",
       "    </tr>\n",
       "    <tr>\n",
       "      <th>2</th>\n",
       "      <td>3</td>\n",
       "      <td>15619304</td>\n",
       "      <td>Onio</td>\n",
       "      <td>502</td>\n",
       "      <td>France</td>\n",
       "      <td>Female</td>\n",
       "      <td>42</td>\n",
       "      <td>8</td>\n",
       "      <td>159660.80</td>\n",
       "      <td>3</td>\n",
       "      <td>1</td>\n",
       "      <td>0</td>\n",
       "      <td>113931.57</td>\n",
       "      <td>1</td>\n",
       "      <td>1</td>\n",
       "      <td>3</td>\n",
       "      <td>DIAMOND</td>\n",
       "      <td>377</td>\n",
       "    </tr>\n",
       "    <tr>\n",
       "      <th>3</th>\n",
       "      <td>4</td>\n",
       "      <td>15701354</td>\n",
       "      <td>Boni</td>\n",
       "      <td>699</td>\n",
       "      <td>France</td>\n",
       "      <td>Female</td>\n",
       "      <td>39</td>\n",
       "      <td>1</td>\n",
       "      <td>0.00</td>\n",
       "      <td>2</td>\n",
       "      <td>0</td>\n",
       "      <td>0</td>\n",
       "      <td>93826.63</td>\n",
       "      <td>0</td>\n",
       "      <td>0</td>\n",
       "      <td>5</td>\n",
       "      <td>GOLD</td>\n",
       "      <td>350</td>\n",
       "    </tr>\n",
       "    <tr>\n",
       "      <th>4</th>\n",
       "      <td>5</td>\n",
       "      <td>15737888</td>\n",
       "      <td>Mitchell</td>\n",
       "      <td>850</td>\n",
       "      <td>Spain</td>\n",
       "      <td>Female</td>\n",
       "      <td>43</td>\n",
       "      <td>2</td>\n",
       "      <td>125510.82</td>\n",
       "      <td>1</td>\n",
       "      <td>1</td>\n",
       "      <td>1</td>\n",
       "      <td>79084.10</td>\n",
       "      <td>0</td>\n",
       "      <td>0</td>\n",
       "      <td>5</td>\n",
       "      <td>GOLD</td>\n",
       "      <td>425</td>\n",
       "    </tr>\n",
       "  </tbody>\n",
       "</table>\n",
       "</div>"
      ],
      "text/plain": [
       "   id  CustomerId   Surname  CreditScore Geography  Gender  Age  Tenure  \\\n",
       "0   1    15634602  Hargrave          619    France  Female   42       2   \n",
       "1   2    15647311      Hill          608     Spain  Female   41       1   \n",
       "2   3    15619304      Onio          502    France  Female   42       8   \n",
       "3   4    15701354      Boni          699    France  Female   39       1   \n",
       "4   5    15737888  Mitchell          850     Spain  Female   43       2   \n",
       "\n",
       "     Balance  NumOfProducts  HasCrCard  IsActiveMember  EstimatedSalary  \\\n",
       "0       0.00              1          1               1        101348.88   \n",
       "1   83807.86              1          0               1        112542.58   \n",
       "2  159660.80              3          1               0        113931.57   \n",
       "3       0.00              2          0               0         93826.63   \n",
       "4  125510.82              1          1               1         79084.10   \n",
       "\n",
       "   Exited  Complain  Satisfaction Score Card Type  Point Earned  \n",
       "0       1         1                   2   DIAMOND           464  \n",
       "1       0         1                   3   DIAMOND           456  \n",
       "2       1         1                   3   DIAMOND           377  \n",
       "3       0         0                   5      GOLD           350  \n",
       "4       0         0                   5      GOLD           425  "
      ]
     },
     "execution_count": 145,
     "metadata": {},
     "output_type": "execute_result"
    }
   ],
   "source": [
    "df.head(5)"
   ]
  },
  {
   "cell_type": "code",
   "execution_count": 146,
   "id": "0b644ea0",
   "metadata": {},
   "outputs": [
    {
     "data": {
      "text/plain": [
       "array([ 2,  1,  8,  7,  4,  6,  3, 10,  5,  9,  0], dtype=int64)"
      ]
     },
     "execution_count": 146,
     "metadata": {},
     "output_type": "execute_result"
    }
   ],
   "source": [
    "#Посмотрим на пороги, которые мы можем установить для классификации клиентов\n",
    "df.Tenure.unique()"
   ]
  },
  {
   "cell_type": "markdown",
   "id": "3fd77506",
   "metadata": {},
   "source": [
    "# Исследуем данные"
   ]
  },
  {
   "cell_type": "code",
   "execution_count": 147,
   "id": "bdd1a11a",
   "metadata": {},
   "outputs": [
    {
     "data": {
      "text/plain": [
       "Text(0.5, 1.0, 'Balance')"
      ]
     },
     "execution_count": 147,
     "metadata": {},
     "output_type": "execute_result"
    },
    {
     "data": {
      "image/png": "[encoded data removed]",
      "text/plain": [
       "<Figure size 1000x700 with 4 Axes>"
      ]
     },
     "metadata": {},
     "output_type": "display_data"
    }
   ],
   "source": [
    "#Посмотрим на распределения некоторых данных\n",
    "\n",
    "fig, axes = plt.subplots(2, 2, figsize=(10, 7))\n",
    "\n",
    "axes[0][0].axvspan(500, 800, facecolor=\"red\", alpha=0.2)\n",
    "axes[0][0].hist(df['CreditScore'], color='blue', alpha=0.4, bins=10)\n",
    "axes[0][0].set_title(\"CreditScore\")\n",
    "\n",
    "axes[0][1].hist(df['Tenure'], color='blue', alpha=0.5)\n",
    "axes[0][1].set_title(\"Tenure\")\n",
    "\n",
    "axes[1][0].axvspan(20, 55, facecolor=\"red\", alpha=0.2)\n",
    "axes[1][0].hist(df['Age'], color='blue', alpha=0.5)\n",
    "axes[1][0].set_title(\"Age\")\n",
    "\n",
    "axes[1][1].axvspan(50000, 200000, facecolor=\"red\", alpha=0.2)\n",
    "axes[1][1].hist(df['Balance'], color='blue', alpha=0.5)\n",
    "axes[1][1].set_title(\"Balance\")"
   ]
  },
  {
   "cell_type": "code",
   "execution_count": 148,
   "id": "842ef663",
   "metadata": {},
   "outputs": [
    {
     "data": {
      "text/html": [
       "<div>\n",
       "<style scoped>\n",
       "    .dataframe tbody tr th:only-of-type {\n",
       "        vertical-align: middle;\n",
       "    }\n",
       "\n",
       "    .dataframe tbody tr th {\n",
       "        vertical-align: top;\n",
       "    }\n",
       "\n",
       "    .dataframe thead th {\n",
       "        text-align: right;\n",
       "    }\n",
       "</style>\n",
       "<table border=\"1\" class=\"dataframe\">\n",
       "  <thead>\n",
       "    <tr style=\"text-align: right;\">\n",
       "      <th></th>\n",
       "      <th>CreditScore</th>\n",
       "      <th>Tenure</th>\n",
       "      <th>Age</th>\n",
       "      <th>Balance</th>\n",
       "    </tr>\n",
       "  </thead>\n",
       "  <tbody>\n",
       "    <tr>\n",
       "      <th>0</th>\n",
       "      <td>Да -&gt; 0.0</td>\n",
       "      <td>Да -&gt; 0.0</td>\n",
       "      <td>Да -&gt; 0.0</td>\n",
       "      <td>Да -&gt; 0.0</td>\n",
       "    </tr>\n",
       "  </tbody>\n",
       "</table>\n",
       "</div>"
      ],
      "text/plain": [
       "  CreditScore     Tenure        Age    Balance \n",
       "0    Да -> 0.0  Да -> 0.0  Да -> 0.0  Да -> 0.0"
      ]
     },
     "execution_count": 148,
     "metadata": {},
     "output_type": "execute_result"
    }
   ],
   "source": [
    "def normal_func(data_value):\n",
    "    \"\"\"Функция проверяет переданный массив значений на нормальное распределение.\n",
    "    Возвращает вердикт по распределению.\"\"\"\n",
    "    z_score, p_value = stats.normaltest(data_value)\n",
    "    \n",
    "    if p_value > 0.05:\n",
    "        return f\"Нет -> {round(p_value, 2)}\"\n",
    "    else:\n",
    "        return f\"Да -> {round(p_value, 2)}\"\n",
    "\n",
    "result_value_dict = {}\n",
    "\n",
    "for item_name in ['CreditScore', 'Tenure', 'Age', 'Balance']:\n",
    "    result_value_dict[item_name] = normal_func(df[item_name])\n",
    "\n",
    "   \n",
    "data_normalize_result = pd.DataFrame({'CreditScore ': [result_value_dict['CreditScore']],\n",
    "              'Tenure ': [result_value_dict['Tenure']],\n",
    "              'Age ': [result_value_dict['Age']],\n",
    "              'Balance ': [result_value_dict['Balance']]})\n",
    "\n",
    "data_normalize_result"
   ]
  },
  {
   "cell_type": "code",
   "execution_count": 149,
   "id": "f1653072",
   "metadata": {},
   "outputs": [
    {
     "data": {
      "text/plain": [
       "<matplotlib.legend.Legend at 0x2ddc0412290>"
      ]
     },
     "execution_count": 149,
     "metadata": {},
     "output_type": "execute_result"
    },
    {
     "data": {
      "image/png": "[encoded data removed]",
      "text/plain": [
       "<Figure size 640x480 with 1 Axes>"
      ]
     },
     "metadata": {},
     "output_type": "display_data"
    }
   ],
   "source": [
    "country = df['Geography'].unique()\n",
    "\n",
    "country_array_count = []\n",
    "\n",
    "for item_country in country:\n",
    "    country_array_count.append(df[df['Geography'] == item_country]['Geography'].count())\n",
    "\n",
    "plt.bar(country, country_array_count, color=\"blue\", alpha=0.4)\n",
    "plt.yticks([500, 1000, 1500, 2000, 2477, 3000, 3500, 4000, 4500, 5000], \n",
    "           labels=[500, 1000, 1500, 2000, 2477, 3000, 3500, 4000, 4500, 5000])\n",
    "plt.axhline(y=2477, ls=\"--\", label=\"Spain\", linewidth=0.4, color='red')\n",
    "plt.legend()"
   ]
  },
  {
   "cell_type": "code",
   "execution_count": 150,
   "id": "877f1abf",
   "metadata": {},
   "outputs": [
    {
     "data": {
      "text/plain": [
       "<matplotlib.legend.Legend at 0x2ddc0368110>"
      ]
     },
     "execution_count": 150,
     "metadata": {},
     "output_type": "execute_result"
    },
    {
     "data": {
      "image/png": "[encoded data removed]",
      "text/plain": [
       "<Figure size 640x480 with 1 Axes>"
      ]
     },
     "metadata": {},
     "output_type": "display_data"
    }
   ],
   "source": [
    "age_dict = {}\n",
    "interval_age_dict = {}\n",
    "labels_age = list(df['Age'])\n",
    "\n",
    "for age_value in labels_age:\n",
    "    age_dict[age_value] = df['Age'].value_counts()[age_value]\n",
    "\n",
    "sum_age_interval_one = 0\n",
    "# <20 - 1 категория \n",
    "for item_age in age_dict:\n",
    "    if item_age < 20:\n",
    "        sum_age_interval_one += age_dict[item_age]\n",
    "\n",
    "sum_age_interval_two = 0\n",
    "# 20-30 - 2 категория \n",
    "for item_age in age_dict:\n",
    "    if item_age >= 20 and item_age <= 30:\n",
    "        sum_age_interval_two += age_dict[item_age]\n",
    "        \n",
    "sum_age_interval_three = 0\n",
    "# 30-40 - 3 категория \n",
    "for item_age in age_dict:\n",
    "    if item_age >= 30 and item_age <= 40:\n",
    "        sum_age_interval_three += age_dict[item_age]\n",
    "\n",
    "sum_age_interval_four = 0\n",
    "# 40-50 - 4 категория\n",
    "for item_age in age_dict:\n",
    "    if item_age >= 40 and item_age <= 50:\n",
    "        sum_age_interval_four += age_dict[item_age]\n",
    "        \n",
    "sum_age_interval_five = 0\n",
    "# >50 - 5 категория\n",
    "for item_age in age_dict:\n",
    "    if item_age >= 50:\n",
    "        sum_age_interval_five += age_dict[item_age]\n",
    "        \n",
    "interval_age_dict['< 20'] = sum_age_interval_one\n",
    "interval_age_dict['20 - 30'] = sum_age_interval_two\n",
    "interval_age_dict['30 - 40'] = sum_age_interval_three\n",
    "interval_age_dict['40 - 50'] = sum_age_interval_four\n",
    "interval_age_dict['> 50'] = sum_age_interval_five\n",
    "\n",
    "plt.pie(interval_age_dict.values(), labels=interval_age_dict.keys(), autopct='%1.1f%%')\n",
    "plt.title(\"Категории клиентов по возрасту\")\n",
    "plt.legend()"
   ]
  },
  {
   "cell_type": "code",
   "execution_count": 151,
   "id": "84568f12",
   "metadata": {},
   "outputs": [
    {
     "data": {
      "image/png": "[encoded data removed]",
      "text/plain": [
       "<Figure size 640x480 with 2 Axes>"
      ]
     },
     "metadata": {},
     "output_type": "display_data"
    }
   ],
   "source": [
    "sns.heatmap(data=df.corr(),\n",
    "            square=True, cmap=\"PiYG\", \n",
    "            center=0,\n",
    "            annot=True, fmt='.2f', annot_kws={'size': 5});"
   ]
  },
  {
   "cell_type": "markdown",
   "id": "75836a8e",
   "metadata": {},
   "source": [
    "Максимальная корреляция между признаками составляет 0.29, что по таблице корреляции (Шкалла Чеддока) ознается слабую положительную связь, поэтому мы не можем сжать наш датасет, удалив одну из фичей Exited или Complain, или Age, заменив тем самым на 1 переменную."
   ]
  },
  {
   "cell_type": "code",
   "execution_count": 152,
   "id": "51a3f624",
   "metadata": {},
   "outputs": [
    {
     "data": {
      "text/plain": [
       "{'id': 0,\n",
       " 'CustomerId': 0,\n",
       " 'Surname': 0,\n",
       " 'CreditScore': 0,\n",
       " 'Geography': 0,\n",
       " 'Gender': 0,\n",
       " 'Age': 0,\n",
       " 'Tenure': 0,\n",
       " 'Balance': 0,\n",
       " 'NumOfProducts': 0,\n",
       " 'HasCrCard': 0,\n",
       " 'IsActiveMember': 0,\n",
       " 'EstimatedSalary': 0,\n",
       " 'Exited': 0,\n",
       " 'Complain': 0,\n",
       " 'Satisfaction Score': 0,\n",
       " 'Card Type': 0,\n",
       " 'Point Earned': 0}"
      ]
     },
     "execution_count": 152,
     "metadata": {},
     "output_type": "execute_result"
    }
   ],
   "source": [
    "data_null = df.isnull()\n",
    "columns = list(data_null.columns)\n",
    "null_dict_result = {}\n",
    "\n",
    "for column in columns:\n",
    "    null_dict_result[column] = data_null[data_null[column] == True][column].count()\n",
    "\n",
    "null_dict_result"
   ]
  },
  {
   "cell_type": "markdown",
   "id": "ea8eb46d",
   "metadata": {},
   "source": [
    "Пустых значений в датасете нет"
   ]
  },
  {
   "cell_type": "code",
   "execution_count": 153,
   "id": "76a253f8",
   "metadata": {},
   "outputs": [
    {
     "name": "stdout",
     "output_type": "stream",
     "text": [
      "<class 'pandas.core.frame.DataFrame'>\n",
      "RangeIndex: 10000 entries, 0 to 9999\n",
      "Data columns (total 18 columns):\n",
      " #   Column              Non-Null Count  Dtype  \n",
      "---  ------              --------------  -----  \n",
      " 0   id                  10000 non-null  int64  \n",
      " 1   CustomerId          10000 non-null  int64  \n",
      " 2   Surname             10000 non-null  object \n",
      " 3   CreditScore         10000 non-null  int64  \n",
      " 4   Geography           10000 non-null  object \n",
      " 5   Gender              10000 non-null  object \n",
      " 6   Age                 10000 non-null  int64  \n",
      " 7   Tenure              10000 non-null  int64  \n",
      " 8   Balance             10000 non-null  float64\n",
      " 9   NumOfProducts       10000 non-null  int64  \n",
      " 10  HasCrCard           10000 non-null  int64  \n",
      " 11  IsActiveMember      10000 non-null  int64  \n",
      " 12  EstimatedSalary     10000 non-null  float64\n",
      " 13  Exited              10000 non-null  int64  \n",
      " 14  Complain            10000 non-null  int64  \n",
      " 15  Satisfaction Score  10000 non-null  int64  \n",
      " 16  Card Type           10000 non-null  object \n",
      " 17  Point Earned        10000 non-null  int64  \n",
      "dtypes: float64(2), int64(12), object(4)\n",
      "memory usage: 1.4+ MB\n"
     ]
    }
   ],
   "source": [
    "df.info()"
   ]
  },
  {
   "cell_type": "code",
   "execution_count": 154,
   "id": "0e12d2fe",
   "metadata": {},
   "outputs": [
    {
     "data": {
      "text/html": [
       "<div>\n",
       "<style scoped>\n",
       "    .dataframe tbody tr th:only-of-type {\n",
       "        vertical-align: middle;\n",
       "    }\n",
       "\n",
       "    .dataframe tbody tr th {\n",
       "        vertical-align: top;\n",
       "    }\n",
       "\n",
       "    .dataframe thead th {\n",
       "        text-align: right;\n",
       "    }\n",
       "</style>\n",
       "<table border=\"1\" class=\"dataframe\">\n",
       "  <thead>\n",
       "    <tr style=\"text-align: right;\">\n",
       "      <th></th>\n",
       "      <th>CreditScore</th>\n",
       "      <th>Age</th>\n",
       "      <th>Tenure</th>\n",
       "      <th>NumOfProducts</th>\n",
       "      <th>HasCrCard</th>\n",
       "      <th>IsActiveMember</th>\n",
       "      <th>Exited</th>\n",
       "      <th>Complain</th>\n",
       "      <th>Satisfaction Score</th>\n",
       "      <th>Point Earned</th>\n",
       "    </tr>\n",
       "  </thead>\n",
       "  <tbody>\n",
       "    <tr>\n",
       "      <th>0</th>\n",
       "      <td>619</td>\n",
       "      <td>42</td>\n",
       "      <td>2</td>\n",
       "      <td>1</td>\n",
       "      <td>1</td>\n",
       "      <td>1</td>\n",
       "      <td>1</td>\n",
       "      <td>1</td>\n",
       "      <td>2</td>\n",
       "      <td>464</td>\n",
       "    </tr>\n",
       "    <tr>\n",
       "      <th>1</th>\n",
       "      <td>608</td>\n",
       "      <td>41</td>\n",
       "      <td>1</td>\n",
       "      <td>1</td>\n",
       "      <td>0</td>\n",
       "      <td>1</td>\n",
       "      <td>0</td>\n",
       "      <td>1</td>\n",
       "      <td>3</td>\n",
       "      <td>456</td>\n",
       "    </tr>\n",
       "    <tr>\n",
       "      <th>2</th>\n",
       "      <td>502</td>\n",
       "      <td>42</td>\n",
       "      <td>8</td>\n",
       "      <td>3</td>\n",
       "      <td>1</td>\n",
       "      <td>0</td>\n",
       "      <td>1</td>\n",
       "      <td>1</td>\n",
       "      <td>3</td>\n",
       "      <td>377</td>\n",
       "    </tr>\n",
       "    <tr>\n",
       "      <th>3</th>\n",
       "      <td>699</td>\n",
       "      <td>39</td>\n",
       "      <td>1</td>\n",
       "      <td>2</td>\n",
       "      <td>0</td>\n",
       "      <td>0</td>\n",
       "      <td>0</td>\n",
       "      <td>0</td>\n",
       "      <td>5</td>\n",
       "      <td>350</td>\n",
       "    </tr>\n",
       "    <tr>\n",
       "      <th>4</th>\n",
       "      <td>850</td>\n",
       "      <td>43</td>\n",
       "      <td>2</td>\n",
       "      <td>1</td>\n",
       "      <td>1</td>\n",
       "      <td>1</td>\n",
       "      <td>0</td>\n",
       "      <td>0</td>\n",
       "      <td>5</td>\n",
       "      <td>425</td>\n",
       "    </tr>\n",
       "  </tbody>\n",
       "</table>\n",
       "</div>"
      ],
      "text/plain": [
       "   CreditScore  Age  Tenure  NumOfProducts  HasCrCard  IsActiveMember  Exited  \\\n",
       "0          619   42       2              1          1               1       1   \n",
       "1          608   41       1              1          0               1       0   \n",
       "2          502   42       8              3          1               0       1   \n",
       "3          699   39       1              2          0               0       0   \n",
       "4          850   43       2              1          1               1       0   \n",
       "\n",
       "   Complain  Satisfaction Score  Point Earned  \n",
       "0         1                   2           464  \n",
       "1         1                   3           456  \n",
       "2         1                   3           377  \n",
       "3         0                   5           350  \n",
       "4         0                   5           425  "
      ]
     },
     "execution_count": 154,
     "metadata": {},
     "output_type": "execute_result"
    }
   ],
   "source": [
    "data_int = df[['CreditScore', 'Age', 'Tenure', 'NumOfProducts', 'HasCrCard', 'IsActiveMember', 'Exited', 'Complain', 'Satisfaction Score', 'Point Earned']]\n",
    "data_int.head()"
   ]
  },
  {
   "cell_type": "code",
   "execution_count": 155,
   "id": "f2ea6621",
   "metadata": {},
   "outputs": [
    {
     "data": {
      "text/html": [
       "<div>\n",
       "<style scoped>\n",
       "    .dataframe tbody tr th:only-of-type {\n",
       "        vertical-align: middle;\n",
       "    }\n",
       "\n",
       "    .dataframe tbody tr th {\n",
       "        vertical-align: top;\n",
       "    }\n",
       "\n",
       "    .dataframe thead th {\n",
       "        text-align: right;\n",
       "    }\n",
       "</style>\n",
       "<table border=\"1\" class=\"dataframe\">\n",
       "  <thead>\n",
       "    <tr style=\"text-align: right;\">\n",
       "      <th></th>\n",
       "      <th>CreditScore</th>\n",
       "      <th>Age</th>\n",
       "      <th>Tenure</th>\n",
       "      <th>NumOfProducts</th>\n",
       "      <th>HasCrCard</th>\n",
       "      <th>IsActiveMember</th>\n",
       "      <th>Exited</th>\n",
       "      <th>Complain</th>\n",
       "      <th>Satisfaction Score</th>\n",
       "      <th>Point Earned</th>\n",
       "    </tr>\n",
       "  </thead>\n",
       "  <tbody>\n",
       "    <tr>\n",
       "      <th>count</th>\n",
       "      <td>10000.000000</td>\n",
       "      <td>10000.000000</td>\n",
       "      <td>10000.000000</td>\n",
       "      <td>10000.000000</td>\n",
       "      <td>10000.00000</td>\n",
       "      <td>10000.000000</td>\n",
       "      <td>10000.000000</td>\n",
       "      <td>10000.000000</td>\n",
       "      <td>10000.000000</td>\n",
       "      <td>10000.000000</td>\n",
       "    </tr>\n",
       "    <tr>\n",
       "      <th>mean</th>\n",
       "      <td>650.528800</td>\n",
       "      <td>38.921800</td>\n",
       "      <td>5.012800</td>\n",
       "      <td>1.530200</td>\n",
       "      <td>0.70550</td>\n",
       "      <td>0.515100</td>\n",
       "      <td>0.203800</td>\n",
       "      <td>0.204400</td>\n",
       "      <td>3.013800</td>\n",
       "      <td>606.515100</td>\n",
       "    </tr>\n",
       "    <tr>\n",
       "      <th>std</th>\n",
       "      <td>96.653299</td>\n",
       "      <td>10.487806</td>\n",
       "      <td>2.892174</td>\n",
       "      <td>0.581654</td>\n",
       "      <td>0.45584</td>\n",
       "      <td>0.499797</td>\n",
       "      <td>0.402842</td>\n",
       "      <td>0.403283</td>\n",
       "      <td>1.405919</td>\n",
       "      <td>225.924839</td>\n",
       "    </tr>\n",
       "    <tr>\n",
       "      <th>min</th>\n",
       "      <td>350.000000</td>\n",
       "      <td>18.000000</td>\n",
       "      <td>0.000000</td>\n",
       "      <td>1.000000</td>\n",
       "      <td>0.00000</td>\n",
       "      <td>0.000000</td>\n",
       "      <td>0.000000</td>\n",
       "      <td>0.000000</td>\n",
       "      <td>1.000000</td>\n",
       "      <td>119.000000</td>\n",
       "    </tr>\n",
       "    <tr>\n",
       "      <th>25%</th>\n",
       "      <td>584.000000</td>\n",
       "      <td>32.000000</td>\n",
       "      <td>3.000000</td>\n",
       "      <td>1.000000</td>\n",
       "      <td>0.00000</td>\n",
       "      <td>0.000000</td>\n",
       "      <td>0.000000</td>\n",
       "      <td>0.000000</td>\n",
       "      <td>2.000000</td>\n",
       "      <td>410.000000</td>\n",
       "    </tr>\n",
       "    <tr>\n",
       "      <th>50%</th>\n",
       "      <td>652.000000</td>\n",
       "      <td>37.000000</td>\n",
       "      <td>5.000000</td>\n",
       "      <td>1.000000</td>\n",
       "      <td>1.00000</td>\n",
       "      <td>1.000000</td>\n",
       "      <td>0.000000</td>\n",
       "      <td>0.000000</td>\n",
       "      <td>3.000000</td>\n",
       "      <td>605.000000</td>\n",
       "    </tr>\n",
       "    <tr>\n",
       "      <th>75%</th>\n",
       "      <td>718.000000</td>\n",
       "      <td>44.000000</td>\n",
       "      <td>7.000000</td>\n",
       "      <td>2.000000</td>\n",
       "      <td>1.00000</td>\n",
       "      <td>1.000000</td>\n",
       "      <td>0.000000</td>\n",
       "      <td>0.000000</td>\n",
       "      <td>4.000000</td>\n",
       "      <td>801.000000</td>\n",
       "    </tr>\n",
       "    <tr>\n",
       "      <th>max</th>\n",
       "      <td>850.000000</td>\n",
       "      <td>92.000000</td>\n",
       "      <td>10.000000</td>\n",
       "      <td>4.000000</td>\n",
       "      <td>1.00000</td>\n",
       "      <td>1.000000</td>\n",
       "      <td>1.000000</td>\n",
       "      <td>1.000000</td>\n",
       "      <td>5.000000</td>\n",
       "      <td>1000.000000</td>\n",
       "    </tr>\n",
       "  </tbody>\n",
       "</table>\n",
       "</div>"
      ],
      "text/plain": [
       "        CreditScore           Age        Tenure  NumOfProducts    HasCrCard  \\\n",
       "count  10000.000000  10000.000000  10000.000000   10000.000000  10000.00000   \n",
       "mean     650.528800     38.921800      5.012800       1.530200      0.70550   \n",
       "std       96.653299     10.487806      2.892174       0.581654      0.45584   \n",
       "min      350.000000     18.000000      0.000000       1.000000      0.00000   \n",
       "25%      584.000000     32.000000      3.000000       1.000000      0.00000   \n",
       "50%      652.000000     37.000000      5.000000       1.000000      1.00000   \n",
       "75%      718.000000     44.000000      7.000000       2.000000      1.00000   \n",
       "max      850.000000     92.000000     10.000000       4.000000      1.00000   \n",
       "\n",
       "       IsActiveMember        Exited      Complain  Satisfaction Score  \\\n",
       "count    10000.000000  10000.000000  10000.000000        10000.000000   \n",
       "mean         0.515100      0.203800      0.204400            3.013800   \n",
       "std          0.499797      0.402842      0.403283            1.405919   \n",
       "min          0.000000      0.000000      0.000000            1.000000   \n",
       "25%          0.000000      0.000000      0.000000            2.000000   \n",
       "50%          1.000000      0.000000      0.000000            3.000000   \n",
       "75%          1.000000      0.000000      0.000000            4.000000   \n",
       "max          1.000000      1.000000      1.000000            5.000000   \n",
       "\n",
       "       Point Earned  \n",
       "count  10000.000000  \n",
       "mean     606.515100  \n",
       "std      225.924839  \n",
       "min      119.000000  \n",
       "25%      410.000000  \n",
       "50%      605.000000  \n",
       "75%      801.000000  \n",
       "max     1000.000000  "
      ]
     },
     "execution_count": 155,
     "metadata": {},
     "output_type": "execute_result"
    }
   ],
   "source": [
    "data_int.describe()"
   ]
  },
  {
   "cell_type": "code",
   "execution_count": 156,
   "id": "656827ca",
   "metadata": {},
   "outputs": [
    {
     "data": {
      "image/png": "[encoded data removed]",
      "text/plain": [
       "<Figure size 1500x1000 with 10 Axes>"
      ]
     },
     "metadata": {},
     "output_type": "display_data"
    }
   ],
   "source": [
    "columns = list(data_int.columns)\n",
    "fig, axes = plt.subplots(2, int(len(columns)/2), figsize=(15, 10))\n",
    "\n",
    "iter_ = 0 \n",
    "for column in columns:\n",
    "    if iter_ <= 4:\n",
    "        axes[0][iter_].boxplot(data_int[column])\n",
    "        axes[0][iter_].set_title(column)\n",
    "        iter_ += 1\n",
    "    else:\n",
    "        axes[1][iter_-5].boxplot(data_int[column])\n",
    "        axes[1][iter_-5].set_title(column)\n",
    "        iter_ += 1"
   ]
  },
  {
   "cell_type": "code",
   "execution_count": 157,
   "id": "757bfa8d",
   "metadata": {},
   "outputs": [
    {
     "data": {
      "text/plain": [
       "1    5084\n",
       "2    4590\n",
       "3     266\n",
       "4      60\n",
       "Name: NumOfProducts, dtype: int64"
      ]
     },
     "execution_count": 157,
     "metadata": {},
     "output_type": "execute_result"
    }
   ],
   "source": [
    "data_int['NumOfProducts'].value_counts()"
   ]
  },
  {
   "cell_type": "markdown",
   "id": "5d354007",
   "metadata": {},
   "source": [
    "Попробуем на алгоритме RandomForestClassifier отобрать информативные признаки для задачи классификации и других алгоритмов, возьмем только числовые признаки, посмотрим результат, далее закодируем кодигориальные признаки, после чего также посмотрим результаты вместе с ними"
   ]
  },
  {
   "cell_type": "code",
   "execution_count": 158,
   "id": "1a3f5282",
   "metadata": {},
   "outputs": [
    {
     "data": {
      "text/html": [
       "<style>#sk-container-id-5 {color: black;background-color: white;}#sk-container-id-5 pre{padding: 0;}#sk-container-id-5 div.sk-toggleable {background-color: white;}#sk-container-id-5 label.sk-toggleable__label {cursor: pointer;display: block;width: 100%;margin-bottom: 0;padding: 0.3em;box-sizing: border-box;text-align: center;}#sk-container-id-5 label.sk-toggleable__label-arrow:before {content: \"▸\";float: left;margin-right: 0.25em;color: #696969;}#sk-container-id-5 label.sk-toggleable__label-arrow:hover:before {color: black;}#sk-container-id-5 div.sk-estimator:hover label.sk-toggleable__label-arrow:before {color: black;}#sk-container-id-5 div.sk-toggleable__content {max-height: 0;max-width: 0;overflow: hidden;text-align: left;background-color: #f0f8ff;}#sk-container-id-5 div.sk-toggleable__content pre {margin: 0.2em;color: black;border-radius: 0.25em;background-color: #f0f8ff;}#sk-container-id-5 input.sk-toggleable__control:checked~div.sk-toggleable__content {max-height: 200px;max-width: 100%;overflow: auto;}#sk-container-id-5 input.sk-toggleable__control:checked~label.sk-toggleable__label-arrow:before {content: \"▾\";}#sk-container-id-5 div.sk-estimator input.sk-toggleable__control:checked~label.sk-toggleable__label {background-color: #d4ebff;}#sk-container-id-5 div.sk-label input.sk-toggleable__control:checked~label.sk-toggleable__label {background-color: #d4ebff;}#sk-container-id-5 input.sk-hidden--visually {border: 0;clip: rect(1px 1px 1px 1px);clip: rect(1px, 1px, 1px, 1px);height: 1px;margin: -1px;overflow: hidden;padding: 0;position: absolute;width: 1px;}#sk-container-id-5 div.sk-estimator {font-family: monospace;background-color: #f0f8ff;border: 1px dotted black;border-radius: 0.25em;box-sizing: border-box;margin-bottom: 0.5em;}#sk-container-id-5 div.sk-estimator:hover {background-color: #d4ebff;}#sk-container-id-5 div.sk-parallel-item::after {content: \"\";width: 100%;border-bottom: 1px solid gray;flex-grow: 1;}#sk-container-id-5 div.sk-label:hover label.sk-toggleable__label {background-color: #d4ebff;}#sk-container-id-5 div.sk-serial::before {content: \"\";position: absolute;border-left: 1px solid gray;box-sizing: border-box;top: 0;bottom: 0;left: 50%;z-index: 0;}#sk-container-id-5 div.sk-serial {display: flex;flex-direction: column;align-items: center;background-color: white;padding-right: 0.2em;padding-left: 0.2em;position: relative;}#sk-container-id-5 div.sk-item {position: relative;z-index: 1;}#sk-container-id-5 div.sk-parallel {display: flex;align-items: stretch;justify-content: center;background-color: white;position: relative;}#sk-container-id-5 div.sk-item::before, #sk-container-id-5 div.sk-parallel-item::before {content: \"\";position: absolute;border-left: 1px solid gray;box-sizing: border-box;top: 0;bottom: 0;left: 50%;z-index: -1;}#sk-container-id-5 div.sk-parallel-item {display: flex;flex-direction: column;z-index: 1;position: relative;background-color: white;}#sk-container-id-5 div.sk-parallel-item:first-child::after {align-self: flex-end;width: 50%;}#sk-container-id-5 div.sk-parallel-item:last-child::after {align-self: flex-start;width: 50%;}#sk-container-id-5 div.sk-parallel-item:only-child::after {width: 0;}#sk-container-id-5 div.sk-dashed-wrapped {border: 1px dashed gray;margin: 0 0.4em 0.5em 0.4em;box-sizing: border-box;padding-bottom: 0.4em;background-color: white;}#sk-container-id-5 div.sk-label label {font-family: monospace;font-weight: bold;display: inline-block;line-height: 1.2em;}#sk-container-id-5 div.sk-label-container {text-align: center;}#sk-container-id-5 div.sk-container {/* jupyter's `normalize.less` sets `[hidden] { display: none; }` but bootstrap.min.css set `[hidden] { display: none !important; }` so we also need the `!important` here to be able to override the default hidden behavior on the sphinx rendered scikit-learn.org. See: https://github.com/scikit-learn/scikit-learn/issues/21755 */display: inline-block !important;position: relative;}#sk-container-id-5 div.sk-text-repr-fallback {display: none;}</style><div id=\"sk-container-id-5\" class=\"sk-top-container\"><div class=\"sk-text-repr-fallback\"><pre>RandomForestClassifier()</pre><b>In a Jupyter environment, please rerun this cell to show the HTML representation or trust the notebook. <br />On GitHub, the HTML representation is unable to render, please try loading this page with nbviewer.org.</b></div><div class=\"sk-container\" hidden><div class=\"sk-item\"><div class=\"sk-estimator sk-toggleable\"><input class=\"sk-toggleable__control sk-hidden--visually\" id=\"sk-estimator-id-5\" type=\"checkbox\" checked><label for=\"sk-estimator-id-5\" class=\"sk-toggleable__label sk-toggleable__label-arrow\">RandomForestClassifier</label><div class=\"sk-toggleable__content\"><pre>RandomForestClassifier()</pre></div></div></div></div></div>"
      ],
      "text/plain": [
       "RandomForestClassifier()"
      ]
     },
     "execution_count": 158,
     "metadata": {},
     "output_type": "execute_result"
    }
   ],
   "source": [
    "model_random_forest = RandomForestClassifier()\n",
    "\n",
    "X = data_int[['CreditScore', 'Age', 'NumOfProducts', 'HasCrCard', 'IsActiveMember',\n",
    "              'Exited', 'Complain', 'Satisfaction Score', 'Point Earned']]\n",
    "y = data_int['Tenure']\n",
    "model_random_forest.fit(X, y)"
   ]
  },
  {
   "cell_type": "code",
   "execution_count": 159,
   "id": "c62dbf7f",
   "metadata": {},
   "outputs": [
    {
     "data": {
      "text/plain": [
       "{'CreditScore': 0.2905,\n",
       " 'Age': 0.2229,\n",
       " 'NumOfProducts': 0.0272,\n",
       " 'HasCrCard': 0.0256,\n",
       " 'IsActiveMember': 0.0288,\n",
       " 'Exited': 0.0085,\n",
       " 'Complain': 0.0085,\n",
       " 'Satisfaction Score': 0.089,\n",
       " 'Point Earned': 0.299}"
      ]
     },
     "execution_count": 159,
     "metadata": {},
     "output_type": "execute_result"
    }
   ],
   "source": [
    "columns = ['CreditScore', 'Age', 'NumOfProducts', 'HasCrCard', 'IsActiveMember', \n",
    "           'Exited', 'Complain', 'Satisfaction Score', 'Point Earned']\n",
    "\n",
    "importances_feature = model_random_forest.feature_importances_\n",
    "\n",
    "feature_inmportances_dict = {}\n",
    "\n",
    "for feature_item in range(len(columns)):\n",
    "    feature_inmportances_dict[columns[feature_item]] = round(importances_feature[feature_item], 4)\n",
    "\n",
    "feature_inmportances_dict"
   ]
  },
  {
   "cell_type": "code",
   "execution_count": 160,
   "id": "05d19995",
   "metadata": {},
   "outputs": [
    {
     "data": {
      "image/png": "[encoded data removed]",
      "text/plain": [
       "<Figure size 640x480 with 1 Axes>"
      ]
     },
     "metadata": {},
     "output_type": "display_data"
    }
   ],
   "source": [
    "plt.title(\"Важность признаков / Информативные признаки\")\n",
    "plt.barh(list(feature_inmportances_dict.keys()), list(feature_inmportances_dict.values()), alpha=0.6, color='red')\n",
    "plt.gca().invert_yaxis()"
   ]
  },
  {
   "cell_type": "markdown",
   "id": "f1a75ba0",
   "metadata": {},
   "source": [
    "Теперь мы можем попробовать обучить модели на самых важных признаках из разряда числовых, посмотреть на метрики (в нашем случае целевая - это accuracy, но посмотрим и на другие), построим ROC AUC кривую.\n",
    "Важные признаки: CreditScore, Age, NumOfProducts, HasCrCard, IsActiveMember, Satisfaction Score, Point Earned.\n",
    "Теперь закодируем категориальные признаки и посморим на важность признаков в совокупности с теми, которые мы рассмотрели выше. Плюс нужно проверить гипотезу на то, является ли значение из NumOfProducts выбросом (которое отмечено на графике boxplot)"
   ]
  },
  {
   "cell_type": "code",
   "execution_count": 161,
   "id": "fe8e14d7",
   "metadata": {},
   "outputs": [
    {
     "data": {
      "text/html": [
       "<div>\n",
       "<style scoped>\n",
       "    .dataframe tbody tr th:only-of-type {\n",
       "        vertical-align: middle;\n",
       "    }\n",
       "\n",
       "    .dataframe tbody tr th {\n",
       "        vertical-align: top;\n",
       "    }\n",
       "\n",
       "    .dataframe thead th {\n",
       "        text-align: right;\n",
       "    }\n",
       "</style>\n",
       "<table border=\"1\" class=\"dataframe\">\n",
       "  <thead>\n",
       "    <tr style=\"text-align: right;\">\n",
       "      <th></th>\n",
       "      <th>Surname</th>\n",
       "      <th>Geography</th>\n",
       "      <th>Gender</th>\n",
       "      <th>Card Type</th>\n",
       "    </tr>\n",
       "  </thead>\n",
       "  <tbody>\n",
       "    <tr>\n",
       "      <th>0</th>\n",
       "      <td>Hargrave</td>\n",
       "      <td>France</td>\n",
       "      <td>Female</td>\n",
       "      <td>DIAMOND</td>\n",
       "    </tr>\n",
       "    <tr>\n",
       "      <th>1</th>\n",
       "      <td>Hill</td>\n",
       "      <td>Spain</td>\n",
       "      <td>Female</td>\n",
       "      <td>DIAMOND</td>\n",
       "    </tr>\n",
       "    <tr>\n",
       "      <th>2</th>\n",
       "      <td>Onio</td>\n",
       "      <td>France</td>\n",
       "      <td>Female</td>\n",
       "      <td>DIAMOND</td>\n",
       "    </tr>\n",
       "    <tr>\n",
       "      <th>3</th>\n",
       "      <td>Boni</td>\n",
       "      <td>France</td>\n",
       "      <td>Female</td>\n",
       "      <td>GOLD</td>\n",
       "    </tr>\n",
       "    <tr>\n",
       "      <th>4</th>\n",
       "      <td>Mitchell</td>\n",
       "      <td>Spain</td>\n",
       "      <td>Female</td>\n",
       "      <td>GOLD</td>\n",
       "    </tr>\n",
       "  </tbody>\n",
       "</table>\n",
       "</div>"
      ],
      "text/plain": [
       "    Surname Geography  Gender Card Type\n",
       "0  Hargrave    France  Female   DIAMOND\n",
       "1      Hill     Spain  Female   DIAMOND\n",
       "2      Onio    France  Female   DIAMOND\n",
       "3      Boni    France  Female      GOLD\n",
       "4  Mitchell     Spain  Female      GOLD"
      ]
     },
     "execution_count": 161,
     "metadata": {},
     "output_type": "execute_result"
    }
   ],
   "source": [
    "df[['Surname', 'Geography', 'Gender', 'Card Type']].head() #категориальные признаки"
   ]
  },
  {
   "cell_type": "code",
   "execution_count": 162,
   "id": "ada39b5e",
   "metadata": {},
   "outputs": [
    {
     "data": {
      "text/html": [
       "<div>\n",
       "<style scoped>\n",
       "    .dataframe tbody tr th:only-of-type {\n",
       "        vertical-align: middle;\n",
       "    }\n",
       "\n",
       "    .dataframe tbody tr th {\n",
       "        vertical-align: top;\n",
       "    }\n",
       "\n",
       "    .dataframe thead th {\n",
       "        text-align: right;\n",
       "    }\n",
       "</style>\n",
       "<table border=\"1\" class=\"dataframe\">\n",
       "  <thead>\n",
       "    <tr style=\"text-align: right;\">\n",
       "      <th></th>\n",
       "      <th>Surname</th>\n",
       "      <th>Geography</th>\n",
       "      <th>Gender</th>\n",
       "      <th>Card Type</th>\n",
       "      <th>id</th>\n",
       "    </tr>\n",
       "  </thead>\n",
       "  <tbody>\n",
       "    <tr>\n",
       "      <th>0</th>\n",
       "      <td>1</td>\n",
       "      <td>1</td>\n",
       "      <td>1</td>\n",
       "      <td>1</td>\n",
       "      <td>0</td>\n",
       "    </tr>\n",
       "    <tr>\n",
       "      <th>1</th>\n",
       "      <td>2</td>\n",
       "      <td>2</td>\n",
       "      <td>1</td>\n",
       "      <td>1</td>\n",
       "      <td>1</td>\n",
       "    </tr>\n",
       "    <tr>\n",
       "      <th>2</th>\n",
       "      <td>3</td>\n",
       "      <td>1</td>\n",
       "      <td>1</td>\n",
       "      <td>1</td>\n",
       "      <td>2</td>\n",
       "    </tr>\n",
       "    <tr>\n",
       "      <th>3</th>\n",
       "      <td>4</td>\n",
       "      <td>1</td>\n",
       "      <td>1</td>\n",
       "      <td>2</td>\n",
       "      <td>3</td>\n",
       "    </tr>\n",
       "    <tr>\n",
       "      <th>4</th>\n",
       "      <td>5</td>\n",
       "      <td>2</td>\n",
       "      <td>1</td>\n",
       "      <td>2</td>\n",
       "      <td>4</td>\n",
       "    </tr>\n",
       "    <tr>\n",
       "      <th>...</th>\n",
       "      <td>...</td>\n",
       "      <td>...</td>\n",
       "      <td>...</td>\n",
       "      <td>...</td>\n",
       "      <td>...</td>\n",
       "    </tr>\n",
       "    <tr>\n",
       "      <th>9995</th>\n",
       "      <td>2540</td>\n",
       "      <td>1</td>\n",
       "      <td>2</td>\n",
       "      <td>1</td>\n",
       "      <td>9995</td>\n",
       "    </tr>\n",
       "    <tr>\n",
       "      <th>9996</th>\n",
       "      <td>607</td>\n",
       "      <td>1</td>\n",
       "      <td>2</td>\n",
       "      <td>4</td>\n",
       "      <td>9996</td>\n",
       "    </tr>\n",
       "    <tr>\n",
       "      <th>9997</th>\n",
       "      <td>906</td>\n",
       "      <td>1</td>\n",
       "      <td>1</td>\n",
       "      <td>3</td>\n",
       "      <td>9997</td>\n",
       "    </tr>\n",
       "    <tr>\n",
       "      <th>9998</th>\n",
       "      <td>1784</td>\n",
       "      <td>3</td>\n",
       "      <td>2</td>\n",
       "      <td>2</td>\n",
       "      <td>9998</td>\n",
       "    </tr>\n",
       "    <tr>\n",
       "      <th>9999</th>\n",
       "      <td>561</td>\n",
       "      <td>1</td>\n",
       "      <td>1</td>\n",
       "      <td>1</td>\n",
       "      <td>9999</td>\n",
       "    </tr>\n",
       "  </tbody>\n",
       "</table>\n",
       "<p>10000 rows × 5 columns</p>\n",
       "</div>"
      ],
      "text/plain": [
       "      Surname  Geography  Gender  Card Type    id\n",
       "0           1          1       1          1     0\n",
       "1           2          2       1          1     1\n",
       "2           3          1       1          1     2\n",
       "3           4          1       1          2     3\n",
       "4           5          2       1          2     4\n",
       "...       ...        ...     ...        ...   ...\n",
       "9995     2540          1       2          1  9995\n",
       "9996      607          1       2          4  9996\n",
       "9997      906          1       1          3  9997\n",
       "9998     1784          3       2          2  9998\n",
       "9999      561          1       1          1  9999\n",
       "\n",
       "[10000 rows x 5 columns]"
      ]
     },
     "execution_count": 162,
     "metadata": {},
     "output_type": "execute_result"
    }
   ],
   "source": [
    "ord_enc = OrdinalEncoder()\n",
    "data_enc = df[['Surname', 'Geography', 'Gender', 'Card Type']]\n",
    "data_enc['id'] = [item for item in range(len(data_enc))]\n",
    "data_enc = ord_enc.fit_transform(data_enc)\n",
    "data_enc"
   ]
  },
  {
   "cell_type": "code",
   "execution_count": 163,
   "id": "2213f8c9",
   "metadata": {},
   "outputs": [
    {
     "data": {
      "text/html": [
       "<div>\n",
       "<style scoped>\n",
       "    .dataframe tbody tr th:only-of-type {\n",
       "        vertical-align: middle;\n",
       "    }\n",
       "\n",
       "    .dataframe tbody tr th {\n",
       "        vertical-align: top;\n",
       "    }\n",
       "\n",
       "    .dataframe thead th {\n",
       "        text-align: right;\n",
       "    }\n",
       "</style>\n",
       "<table border=\"1\" class=\"dataframe\">\n",
       "  <thead>\n",
       "    <tr style=\"text-align: right;\">\n",
       "      <th></th>\n",
       "      <th>CreditScore</th>\n",
       "      <th>Age</th>\n",
       "      <th>NumOfProducts</th>\n",
       "      <th>HasCrCard</th>\n",
       "      <th>IsActiveMember</th>\n",
       "      <th>Exited</th>\n",
       "      <th>Complain</th>\n",
       "      <th>Satisfaction Score</th>\n",
       "      <th>Point Earned</th>\n",
       "      <th>Tenure</th>\n",
       "      <th>id</th>\n",
       "    </tr>\n",
       "  </thead>\n",
       "  <tbody>\n",
       "    <tr>\n",
       "      <th>0</th>\n",
       "      <td>619</td>\n",
       "      <td>42</td>\n",
       "      <td>1</td>\n",
       "      <td>1</td>\n",
       "      <td>1</td>\n",
       "      <td>1</td>\n",
       "      <td>1</td>\n",
       "      <td>2</td>\n",
       "      <td>464</td>\n",
       "      <td>2</td>\n",
       "      <td>0</td>\n",
       "    </tr>\n",
       "    <tr>\n",
       "      <th>1</th>\n",
       "      <td>608</td>\n",
       "      <td>41</td>\n",
       "      <td>1</td>\n",
       "      <td>0</td>\n",
       "      <td>1</td>\n",
       "      <td>0</td>\n",
       "      <td>1</td>\n",
       "      <td>3</td>\n",
       "      <td>456</td>\n",
       "      <td>1</td>\n",
       "      <td>1</td>\n",
       "    </tr>\n",
       "    <tr>\n",
       "      <th>2</th>\n",
       "      <td>502</td>\n",
       "      <td>42</td>\n",
       "      <td>3</td>\n",
       "      <td>1</td>\n",
       "      <td>0</td>\n",
       "      <td>1</td>\n",
       "      <td>1</td>\n",
       "      <td>3</td>\n",
       "      <td>377</td>\n",
       "      <td>8</td>\n",
       "      <td>2</td>\n",
       "    </tr>\n",
       "    <tr>\n",
       "      <th>3</th>\n",
       "      <td>699</td>\n",
       "      <td>39</td>\n",
       "      <td>2</td>\n",
       "      <td>0</td>\n",
       "      <td>0</td>\n",
       "      <td>0</td>\n",
       "      <td>0</td>\n",
       "      <td>5</td>\n",
       "      <td>350</td>\n",
       "      <td>1</td>\n",
       "      <td>3</td>\n",
       "    </tr>\n",
       "    <tr>\n",
       "      <th>4</th>\n",
       "      <td>850</td>\n",
       "      <td>43</td>\n",
       "      <td>1</td>\n",
       "      <td>1</td>\n",
       "      <td>1</td>\n",
       "      <td>0</td>\n",
       "      <td>0</td>\n",
       "      <td>5</td>\n",
       "      <td>425</td>\n",
       "      <td>2</td>\n",
       "      <td>4</td>\n",
       "    </tr>\n",
       "  </tbody>\n",
       "</table>\n",
       "</div>"
      ],
      "text/plain": [
       "   CreditScore  Age  NumOfProducts  HasCrCard  IsActiveMember  Exited  \\\n",
       "0          619   42              1          1               1       1   \n",
       "1          608   41              1          0               1       0   \n",
       "2          502   42              3          1               0       1   \n",
       "3          699   39              2          0               0       0   \n",
       "4          850   43              1          1               1       0   \n",
       "\n",
       "   Complain  Satisfaction Score  Point Earned  Tenure  id  \n",
       "0         1                   2           464       2   0  \n",
       "1         1                   3           456       1   1  \n",
       "2         1                   3           377       8   2  \n",
       "3         0                   5           350       1   3  \n",
       "4         0                   5           425       2   4  "
      ]
     },
     "execution_count": 163,
     "metadata": {},
     "output_type": "execute_result"
    }
   ],
   "source": [
    "data_all = df[['CreditScore', 'Age', 'NumOfProducts', 'HasCrCard', 'IsActiveMember',\n",
    "              'Exited', 'Complain', 'Satisfaction Score', 'Point Earned', 'Tenure']]\n",
    "data_all['id'] = [item for item in range(len(data_int))]\n",
    "data_all.head()"
   ]
  },
  {
   "cell_type": "code",
   "execution_count": 164,
   "id": "809e834e",
   "metadata": {},
   "outputs": [
    {
     "data": {
      "text/html": [
       "<div>\n",
       "<style scoped>\n",
       "    .dataframe tbody tr th:only-of-type {\n",
       "        vertical-align: middle;\n",
       "    }\n",
       "\n",
       "    .dataframe tbody tr th {\n",
       "        vertical-align: top;\n",
       "    }\n",
       "\n",
       "    .dataframe thead th {\n",
       "        text-align: right;\n",
       "    }\n",
       "</style>\n",
       "<table border=\"1\" class=\"dataframe\">\n",
       "  <thead>\n",
       "    <tr style=\"text-align: right;\">\n",
       "      <th></th>\n",
       "      <th>Surname</th>\n",
       "      <th>Geography</th>\n",
       "      <th>Gender</th>\n",
       "      <th>Card Type</th>\n",
       "      <th>id</th>\n",
       "      <th>CreditScore</th>\n",
       "      <th>Age</th>\n",
       "      <th>NumOfProducts</th>\n",
       "      <th>HasCrCard</th>\n",
       "      <th>IsActiveMember</th>\n",
       "      <th>Exited</th>\n",
       "      <th>Complain</th>\n",
       "      <th>Satisfaction Score</th>\n",
       "      <th>Point Earned</th>\n",
       "      <th>Tenure</th>\n",
       "    </tr>\n",
       "  </thead>\n",
       "  <tbody>\n",
       "    <tr>\n",
       "      <th>0</th>\n",
       "      <td>1</td>\n",
       "      <td>1</td>\n",
       "      <td>1</td>\n",
       "      <td>1</td>\n",
       "      <td>0</td>\n",
       "      <td>619</td>\n",
       "      <td>42</td>\n",
       "      <td>1</td>\n",
       "      <td>1</td>\n",
       "      <td>1</td>\n",
       "      <td>1</td>\n",
       "      <td>1</td>\n",
       "      <td>2</td>\n",
       "      <td>464</td>\n",
       "      <td>2</td>\n",
       "    </tr>\n",
       "    <tr>\n",
       "      <th>1</th>\n",
       "      <td>2</td>\n",
       "      <td>2</td>\n",
       "      <td>1</td>\n",
       "      <td>1</td>\n",
       "      <td>1</td>\n",
       "      <td>608</td>\n",
       "      <td>41</td>\n",
       "      <td>1</td>\n",
       "      <td>0</td>\n",
       "      <td>1</td>\n",
       "      <td>0</td>\n",
       "      <td>1</td>\n",
       "      <td>3</td>\n",
       "      <td>456</td>\n",
       "      <td>1</td>\n",
       "    </tr>\n",
       "    <tr>\n",
       "      <th>2</th>\n",
       "      <td>3</td>\n",
       "      <td>1</td>\n",
       "      <td>1</td>\n",
       "      <td>1</td>\n",
       "      <td>2</td>\n",
       "      <td>502</td>\n",
       "      <td>42</td>\n",
       "      <td>3</td>\n",
       "      <td>1</td>\n",
       "      <td>0</td>\n",
       "      <td>1</td>\n",
       "      <td>1</td>\n",
       "      <td>3</td>\n",
       "      <td>377</td>\n",
       "      <td>8</td>\n",
       "    </tr>\n",
       "    <tr>\n",
       "      <th>3</th>\n",
       "      <td>4</td>\n",
       "      <td>1</td>\n",
       "      <td>1</td>\n",
       "      <td>2</td>\n",
       "      <td>3</td>\n",
       "      <td>699</td>\n",
       "      <td>39</td>\n",
       "      <td>2</td>\n",
       "      <td>0</td>\n",
       "      <td>0</td>\n",
       "      <td>0</td>\n",
       "      <td>0</td>\n",
       "      <td>5</td>\n",
       "      <td>350</td>\n",
       "      <td>1</td>\n",
       "    </tr>\n",
       "    <tr>\n",
       "      <th>4</th>\n",
       "      <td>5</td>\n",
       "      <td>2</td>\n",
       "      <td>1</td>\n",
       "      <td>2</td>\n",
       "      <td>4</td>\n",
       "      <td>850</td>\n",
       "      <td>43</td>\n",
       "      <td>1</td>\n",
       "      <td>1</td>\n",
       "      <td>1</td>\n",
       "      <td>0</td>\n",
       "      <td>0</td>\n",
       "      <td>5</td>\n",
       "      <td>425</td>\n",
       "      <td>2</td>\n",
       "    </tr>\n",
       "  </tbody>\n",
       "</table>\n",
       "</div>"
      ],
      "text/plain": [
       "   Surname  Geography  Gender  Card Type  id  CreditScore  Age  NumOfProducts  \\\n",
       "0        1          1       1          1   0          619   42              1   \n",
       "1        2          2       1          1   1          608   41              1   \n",
       "2        3          1       1          1   2          502   42              3   \n",
       "3        4          1       1          2   3          699   39              2   \n",
       "4        5          2       1          2   4          850   43              1   \n",
       "\n",
       "   HasCrCard  IsActiveMember  Exited  Complain  Satisfaction Score  \\\n",
       "0          1               1       1         1                   2   \n",
       "1          0               1       0         1                   3   \n",
       "2          1               0       1         1                   3   \n",
       "3          0               0       0         0                   5   \n",
       "4          1               1       0         0                   5   \n",
       "\n",
       "   Point Earned  Tenure  \n",
       "0           464       2  \n",
       "1           456       1  \n",
       "2           377       8  \n",
       "3           350       1  \n",
       "4           425       2  "
      ]
     },
     "execution_count": 164,
     "metadata": {},
     "output_type": "execute_result"
    }
   ],
   "source": [
    "data_result = pd.merge(data_enc, data_all, left_on=['id'], right_on=['id'], how=\"inner\")\n",
    "data_result.head()"
   ]
  },
  {
   "cell_type": "code",
   "execution_count": 165,
   "id": "90a4e81c",
   "metadata": {},
   "outputs": [
    {
     "data": {
      "text/html": [
       "<style>#sk-container-id-6 {color: black;background-color: white;}#sk-container-id-6 pre{padding: 0;}#sk-container-id-6 div.sk-toggleable {background-color: white;}#sk-container-id-6 label.sk-toggleable__label {cursor: pointer;display: block;width: 100%;margin-bottom: 0;padding: 0.3em;box-sizing: border-box;text-align: center;}#sk-container-id-6 label.sk-toggleable__label-arrow:before {content: \"▸\";float: left;margin-right: 0.25em;color: #696969;}#sk-container-id-6 label.sk-toggleable__label-arrow:hover:before {color: black;}#sk-container-id-6 div.sk-estimator:hover label.sk-toggleable__label-arrow:before {color: black;}#sk-container-id-6 div.sk-toggleable__content {max-height: 0;max-width: 0;overflow: hidden;text-align: left;background-color: #f0f8ff;}#sk-container-id-6 div.sk-toggleable__content pre {margin: 0.2em;color: black;border-radius: 0.25em;background-color: #f0f8ff;}#sk-container-id-6 input.sk-toggleable__control:checked~div.sk-toggleable__content {max-height: 200px;max-width: 100%;overflow: auto;}#sk-container-id-6 input.sk-toggleable__control:checked~label.sk-toggleable__label-arrow:before {content: \"▾\";}#sk-container-id-6 div.sk-estimator input.sk-toggleable__control:checked~label.sk-toggleable__label {background-color: #d4ebff;}#sk-container-id-6 div.sk-label input.sk-toggleable__control:checked~label.sk-toggleable__label {background-color: #d4ebff;}#sk-container-id-6 input.sk-hidden--visually {border: 0;clip: rect(1px 1px 1px 1px);clip: rect(1px, 1px, 1px, 1px);height: 1px;margin: -1px;overflow: hidden;padding: 0;position: absolute;width: 1px;}#sk-container-id-6 div.sk-estimator {font-family: monospace;background-color: #f0f8ff;border: 1px dotted black;border-radius: 0.25em;box-sizing: border-box;margin-bottom: 0.5em;}#sk-container-id-6 div.sk-estimator:hover {background-color: #d4ebff;}#sk-container-id-6 div.sk-parallel-item::after {content: \"\";width: 100%;border-bottom: 1px solid gray;flex-grow: 1;}#sk-container-id-6 div.sk-label:hover label.sk-toggleable__label {background-color: #d4ebff;}#sk-container-id-6 div.sk-serial::before {content: \"\";position: absolute;border-left: 1px solid gray;box-sizing: border-box;top: 0;bottom: 0;left: 50%;z-index: 0;}#sk-container-id-6 div.sk-serial {display: flex;flex-direction: column;align-items: center;background-color: white;padding-right: 0.2em;padding-left: 0.2em;position: relative;}#sk-container-id-6 div.sk-item {position: relative;z-index: 1;}#sk-container-id-6 div.sk-parallel {display: flex;align-items: stretch;justify-content: center;background-color: white;position: relative;}#sk-container-id-6 div.sk-item::before, #sk-container-id-6 div.sk-parallel-item::before {content: \"\";position: absolute;border-left: 1px solid gray;box-sizing: border-box;top: 0;bottom: 0;left: 50%;z-index: -1;}#sk-container-id-6 div.sk-parallel-item {display: flex;flex-direction: column;z-index: 1;position: relative;background-color: white;}#sk-container-id-6 div.sk-parallel-item:first-child::after {align-self: flex-end;width: 50%;}#sk-container-id-6 div.sk-parallel-item:last-child::after {align-self: flex-start;width: 50%;}#sk-container-id-6 div.sk-parallel-item:only-child::after {width: 0;}#sk-container-id-6 div.sk-dashed-wrapped {border: 1px dashed gray;margin: 0 0.4em 0.5em 0.4em;box-sizing: border-box;padding-bottom: 0.4em;background-color: white;}#sk-container-id-6 div.sk-label label {font-family: monospace;font-weight: bold;display: inline-block;line-height: 1.2em;}#sk-container-id-6 div.sk-label-container {text-align: center;}#sk-container-id-6 div.sk-container {/* jupyter's `normalize.less` sets `[hidden] { display: none; }` but bootstrap.min.css set `[hidden] { display: none !important; }` so we also need the `!important` here to be able to override the default hidden behavior on the sphinx rendered scikit-learn.org. See: https://github.com/scikit-learn/scikit-learn/issues/21755 */display: inline-block !important;position: relative;}#sk-container-id-6 div.sk-text-repr-fallback {display: none;}</style><div id=\"sk-container-id-6\" class=\"sk-top-container\"><div class=\"sk-text-repr-fallback\"><pre>RandomForestClassifier()</pre><b>In a Jupyter environment, please rerun this cell to show the HTML representation or trust the notebook. <br />On GitHub, the HTML representation is unable to render, please try loading this page with nbviewer.org.</b></div><div class=\"sk-container\" hidden><div class=\"sk-item\"><div class=\"sk-estimator sk-toggleable\"><input class=\"sk-toggleable__control sk-hidden--visually\" id=\"sk-estimator-id-6\" type=\"checkbox\" checked><label for=\"sk-estimator-id-6\" class=\"sk-toggleable__label sk-toggleable__label-arrow\">RandomForestClassifier</label><div class=\"sk-toggleable__content\"><pre>RandomForestClassifier()</pre></div></div></div></div></div>"
      ],
      "text/plain": [
       "RandomForestClassifier()"
      ]
     },
     "execution_count": 165,
     "metadata": {},
     "output_type": "execute_result"
    }
   ],
   "source": [
    "X = data_result[['Card Type', 'Gender', 'Geography', 'Surname', 'CreditScore', 'Age', 'NumOfProducts', 'HasCrCard', 'IsActiveMember',\n",
    "              'Exited', 'Complain', 'Satisfaction Score', 'Point Earned']]\n",
    "y = data_result['Tenure']\n",
    "\n",
    "model_random_forest.fit(X, y)"
   ]
  },
  {
   "cell_type": "code",
   "execution_count": 166,
   "id": "6ea83fb0",
   "metadata": {},
   "outputs": [
    {
     "data": {
      "text/plain": [
       "{'Card Type': 0.0653,\n",
       " 'Gender': 0.0295,\n",
       " 'Geography': 0.0429,\n",
       " 'Surname': 0.1775,\n",
       " 'CreditScore': 0.1736,\n",
       " 'Age': 0.1535,\n",
       " 'NumOfProducts': 0.0294,\n",
       " 'HasCrCard': 0.0289,\n",
       " 'IsActiveMember': 0.0276,\n",
       " 'Exited': 0.0097,\n",
       " 'Complain': 0.0097,\n",
       " 'Satisfaction Score': 0.075,\n",
       " 'Point Earned': 0.1774}"
      ]
     },
     "execution_count": 166,
     "metadata": {},
     "output_type": "execute_result"
    }
   ],
   "source": [
    "columns = ['Card Type', 'Gender', 'Geography', 'Surname', 'CreditScore', \n",
    "           'Age', 'NumOfProducts', 'HasCrCard', 'IsActiveMember',\n",
    "           'Exited', 'Complain', 'Satisfaction Score', 'Point Earned']\n",
    "\n",
    "importances_feature = model_random_forest.feature_importances_\n",
    "\n",
    "feature_inmportances_dict = {}\n",
    "\n",
    "for feature_item in range(len(columns)):\n",
    "    feature_inmportances_dict[columns[feature_item]] = round(importances_feature[feature_item], 4)\n",
    "\n",
    "feature_inmportances_dict"
   ]
  },
  {
   "cell_type": "code",
   "execution_count": 167,
   "id": "ce5df1d5",
   "metadata": {},
   "outputs": [
    {
     "data": {
      "image/png": "[encoded data removed]",
      "text/plain": [
       "<Figure size 640x480 with 1 Axes>"
      ]
     },
     "metadata": {},
     "output_type": "display_data"
    }
   ],
   "source": [
    "plt.title(\"Важность признаков / Информативность признаков\")\n",
    "plt.barh(list(feature_inmportances_dict.keys()), list(feature_inmportances_dict.values()), alpha=0.6, color='red')\n",
    "plt.gca().invert_yaxis()"
   ]
  },
  {
   "cell_type": "markdown",
   "id": "c57d91e7",
   "metadata": {},
   "source": [
    "Таким образом, мы получили еще пайплайн информативных признаков, после применения кодирования к категориальным признакам: \n",
    "    \n",
    "    Самые информативные фичи: Card Type, Gender, Geography, Surname, CreditScore, Age, Satisfaction Score, Point Earned\n",
    "    \n",
    "    Менее информативные фичи: NumOfProducts, HasCrCard, IsActiveMember, Exited, Complain"
   ]
  },
  {
   "cell_type": "markdown",
   "id": "6bd582a9",
   "metadata": {},
   "source": [
    "Зададим порог для классификации равный значению, которое встречается чаще всего в целевой переменной"
   ]
  },
  {
   "cell_type": "code",
   "execution_count": 168,
   "id": "bc521387",
   "metadata": {},
   "outputs": [
    {
     "data": {
      "text/plain": [
       "2     1048\n",
       "1     1035\n",
       "7     1028\n",
       "8     1025\n",
       "5     1012\n",
       "3     1009\n",
       "4      989\n",
       "9      984\n",
       "6      967\n",
       "10     490\n",
       "0      413\n",
       "Name: Tenure, dtype: int64"
      ]
     },
     "execution_count": 168,
     "metadata": {},
     "output_type": "execute_result"
    }
   ],
   "source": [
    "df['Tenure'].value_counts()"
   ]
  },
  {
   "cell_type": "code",
   "execution_count": 169,
   "id": "31564878",
   "metadata": {},
   "outputs": [
    {
     "data": {
      "text/plain": [
       "1048"
      ]
     },
     "execution_count": 169,
     "metadata": {},
     "output_type": "execute_result"
    }
   ],
   "source": [
    "max(list(df['Tenure'].value_counts()))"
   ]
  },
  {
   "cell_type": "markdown",
   "id": "73d13448",
   "metadata": {},
   "source": [
    "Самое частое значение, которое встречается - это значение 2, поэтому установим это как порог классификации"
   ]
  },
  {
   "cell_type": "code",
   "execution_count": 170,
   "id": "14d24fc7",
   "metadata": {},
   "outputs": [
    {
     "data": {
      "text/html": [
       "<div>\n",
       "<style scoped>\n",
       "    .dataframe tbody tr th:only-of-type {\n",
       "        vertical-align: middle;\n",
       "    }\n",
       "\n",
       "    .dataframe tbody tr th {\n",
       "        vertical-align: top;\n",
       "    }\n",
       "\n",
       "    .dataframe thead th {\n",
       "        text-align: right;\n",
       "    }\n",
       "</style>\n",
       "<table border=\"1\" class=\"dataframe\">\n",
       "  <thead>\n",
       "    <tr style=\"text-align: right;\">\n",
       "      <th></th>\n",
       "      <th>CreditScore</th>\n",
       "      <th>Age</th>\n",
       "      <th>NumOfProducts</th>\n",
       "      <th>HasCrCard</th>\n",
       "      <th>IsActiveMember</th>\n",
       "      <th>Exited</th>\n",
       "      <th>Complain</th>\n",
       "      <th>Satisfaction Score</th>\n",
       "      <th>Point Earned</th>\n",
       "      <th>Tenure</th>\n",
       "      <th>id</th>\n",
       "    </tr>\n",
       "  </thead>\n",
       "  <tbody>\n",
       "    <tr>\n",
       "      <th>0</th>\n",
       "      <td>619</td>\n",
       "      <td>42</td>\n",
       "      <td>1</td>\n",
       "      <td>1</td>\n",
       "      <td>1</td>\n",
       "      <td>1</td>\n",
       "      <td>1</td>\n",
       "      <td>2</td>\n",
       "      <td>464</td>\n",
       "      <td>2</td>\n",
       "      <td>0</td>\n",
       "    </tr>\n",
       "    <tr>\n",
       "      <th>1</th>\n",
       "      <td>608</td>\n",
       "      <td>41</td>\n",
       "      <td>1</td>\n",
       "      <td>0</td>\n",
       "      <td>1</td>\n",
       "      <td>0</td>\n",
       "      <td>1</td>\n",
       "      <td>3</td>\n",
       "      <td>456</td>\n",
       "      <td>1</td>\n",
       "      <td>1</td>\n",
       "    </tr>\n",
       "    <tr>\n",
       "      <th>2</th>\n",
       "      <td>502</td>\n",
       "      <td>42</td>\n",
       "      <td>3</td>\n",
       "      <td>1</td>\n",
       "      <td>0</td>\n",
       "      <td>1</td>\n",
       "      <td>1</td>\n",
       "      <td>3</td>\n",
       "      <td>377</td>\n",
       "      <td>8</td>\n",
       "      <td>2</td>\n",
       "    </tr>\n",
       "    <tr>\n",
       "      <th>3</th>\n",
       "      <td>699</td>\n",
       "      <td>39</td>\n",
       "      <td>2</td>\n",
       "      <td>0</td>\n",
       "      <td>0</td>\n",
       "      <td>0</td>\n",
       "      <td>0</td>\n",
       "      <td>5</td>\n",
       "      <td>350</td>\n",
       "      <td>1</td>\n",
       "      <td>3</td>\n",
       "    </tr>\n",
       "    <tr>\n",
       "      <th>4</th>\n",
       "      <td>850</td>\n",
       "      <td>43</td>\n",
       "      <td>1</td>\n",
       "      <td>1</td>\n",
       "      <td>1</td>\n",
       "      <td>0</td>\n",
       "      <td>0</td>\n",
       "      <td>5</td>\n",
       "      <td>425</td>\n",
       "      <td>2</td>\n",
       "      <td>4</td>\n",
       "    </tr>\n",
       "  </tbody>\n",
       "</table>\n",
       "</div>"
      ],
      "text/plain": [
       "   CreditScore  Age  NumOfProducts  HasCrCard  IsActiveMember  Exited  \\\n",
       "0          619   42              1          1               1       1   \n",
       "1          608   41              1          0               1       0   \n",
       "2          502   42              3          1               0       1   \n",
       "3          699   39              2          0               0       0   \n",
       "4          850   43              1          1               1       0   \n",
       "\n",
       "   Complain  Satisfaction Score  Point Earned  Tenure  id  \n",
       "0         1                   2           464       2   0  \n",
       "1         1                   3           456       1   1  \n",
       "2         1                   3           377       8   2  \n",
       "3         0                   5           350       1   3  \n",
       "4         0                   5           425       2   4  "
      ]
     },
     "execution_count": 170,
     "metadata": {},
     "output_type": "execute_result"
    }
   ],
   "source": [
    "data_all.head()"
   ]
  },
  {
   "cell_type": "code",
   "execution_count": 171,
   "id": "d1d4bc7a",
   "metadata": {},
   "outputs": [],
   "source": [
    "def func_classifier(value):\n",
    "    if value == 2: \n",
    "        return 1\n",
    "    else:\n",
    "        return 0\n",
    "    \n",
    "data_result['Tenure_value'] = data_all['Tenure'].apply(func_classifier)"
   ]
  },
  {
   "cell_type": "code",
   "execution_count": 172,
   "id": "72447fcd",
   "metadata": {},
   "outputs": [
    {
     "data": {
      "text/html": [
       "<div>\n",
       "<style scoped>\n",
       "    .dataframe tbody tr th:only-of-type {\n",
       "        vertical-align: middle;\n",
       "    }\n",
       "\n",
       "    .dataframe tbody tr th {\n",
       "        vertical-align: top;\n",
       "    }\n",
       "\n",
       "    .dataframe thead th {\n",
       "        text-align: right;\n",
       "    }\n",
       "</style>\n",
       "<table border=\"1\" class=\"dataframe\">\n",
       "  <thead>\n",
       "    <tr style=\"text-align: right;\">\n",
       "      <th></th>\n",
       "      <th>Surname</th>\n",
       "      <th>Geography</th>\n",
       "      <th>Gender</th>\n",
       "      <th>Card Type</th>\n",
       "      <th>id</th>\n",
       "      <th>CreditScore</th>\n",
       "      <th>Age</th>\n",
       "      <th>NumOfProducts</th>\n",
       "      <th>HasCrCard</th>\n",
       "      <th>IsActiveMember</th>\n",
       "      <th>Exited</th>\n",
       "      <th>Complain</th>\n",
       "      <th>Satisfaction Score</th>\n",
       "      <th>Point Earned</th>\n",
       "      <th>Tenure</th>\n",
       "      <th>Tenure_value</th>\n",
       "    </tr>\n",
       "  </thead>\n",
       "  <tbody>\n",
       "    <tr>\n",
       "      <th>0</th>\n",
       "      <td>1</td>\n",
       "      <td>1</td>\n",
       "      <td>1</td>\n",
       "      <td>1</td>\n",
       "      <td>0</td>\n",
       "      <td>619</td>\n",
       "      <td>42</td>\n",
       "      <td>1</td>\n",
       "      <td>1</td>\n",
       "      <td>1</td>\n",
       "      <td>1</td>\n",
       "      <td>1</td>\n",
       "      <td>2</td>\n",
       "      <td>464</td>\n",
       "      <td>2</td>\n",
       "      <td>1</td>\n",
       "    </tr>\n",
       "    <tr>\n",
       "      <th>1</th>\n",
       "      <td>2</td>\n",
       "      <td>2</td>\n",
       "      <td>1</td>\n",
       "      <td>1</td>\n",
       "      <td>1</td>\n",
       "      <td>608</td>\n",
       "      <td>41</td>\n",
       "      <td>1</td>\n",
       "      <td>0</td>\n",
       "      <td>1</td>\n",
       "      <td>0</td>\n",
       "      <td>1</td>\n",
       "      <td>3</td>\n",
       "      <td>456</td>\n",
       "      <td>1</td>\n",
       "      <td>0</td>\n",
       "    </tr>\n",
       "    <tr>\n",
       "      <th>2</th>\n",
       "      <td>3</td>\n",
       "      <td>1</td>\n",
       "      <td>1</td>\n",
       "      <td>1</td>\n",
       "      <td>2</td>\n",
       "      <td>502</td>\n",
       "      <td>42</td>\n",
       "      <td>3</td>\n",
       "      <td>1</td>\n",
       "      <td>0</td>\n",
       "      <td>1</td>\n",
       "      <td>1</td>\n",
       "      <td>3</td>\n",
       "      <td>377</td>\n",
       "      <td>8</td>\n",
       "      <td>0</td>\n",
       "    </tr>\n",
       "    <tr>\n",
       "      <th>3</th>\n",
       "      <td>4</td>\n",
       "      <td>1</td>\n",
       "      <td>1</td>\n",
       "      <td>2</td>\n",
       "      <td>3</td>\n",
       "      <td>699</td>\n",
       "      <td>39</td>\n",
       "      <td>2</td>\n",
       "      <td>0</td>\n",
       "      <td>0</td>\n",
       "      <td>0</td>\n",
       "      <td>0</td>\n",
       "      <td>5</td>\n",
       "      <td>350</td>\n",
       "      <td>1</td>\n",
       "      <td>0</td>\n",
       "    </tr>\n",
       "    <tr>\n",
       "      <th>4</th>\n",
       "      <td>5</td>\n",
       "      <td>2</td>\n",
       "      <td>1</td>\n",
       "      <td>2</td>\n",
       "      <td>4</td>\n",
       "      <td>850</td>\n",
       "      <td>43</td>\n",
       "      <td>1</td>\n",
       "      <td>1</td>\n",
       "      <td>1</td>\n",
       "      <td>0</td>\n",
       "      <td>0</td>\n",
       "      <td>5</td>\n",
       "      <td>425</td>\n",
       "      <td>2</td>\n",
       "      <td>1</td>\n",
       "    </tr>\n",
       "  </tbody>\n",
       "</table>\n",
       "</div>"
      ],
      "text/plain": [
       "   Surname  Geography  Gender  Card Type  id  CreditScore  Age  NumOfProducts  \\\n",
       "0        1          1       1          1   0          619   42              1   \n",
       "1        2          2       1          1   1          608   41              1   \n",
       "2        3          1       1          1   2          502   42              3   \n",
       "3        4          1       1          2   3          699   39              2   \n",
       "4        5          2       1          2   4          850   43              1   \n",
       "\n",
       "   HasCrCard  IsActiveMember  Exited  Complain  Satisfaction Score  \\\n",
       "0          1               1       1         1                   2   \n",
       "1          0               1       0         1                   3   \n",
       "2          1               0       1         1                   3   \n",
       "3          0               0       0         0                   5   \n",
       "4          1               1       0         0                   5   \n",
       "\n",
       "   Point Earned  Tenure  Tenure_value  \n",
       "0           464       2             1  \n",
       "1           456       1             0  \n",
       "2           377       8             0  \n",
       "3           350       1             0  \n",
       "4           425       2             1  "
      ]
     },
     "execution_count": 172,
     "metadata": {},
     "output_type": "execute_result"
    }
   ],
   "source": [
    "data_result.head(5)"
   ]
  },
  {
   "cell_type": "markdown",
   "id": "c822cd2b",
   "metadata": {},
   "source": [
    "Обучим линейную регрессию, посмотрим на метрики, разобьем датасет на трейн и тест"
   ]
  },
  {
   "cell_type": "code",
   "execution_count": 173,
   "id": "710cda3b",
   "metadata": {},
   "outputs": [
    {
     "name": "stdout",
     "output_type": "stream",
     "text": [
      "CPU times: total: 62.5 ms\n",
      "Wall time: 65.1 ms\n"
     ]
    }
   ],
   "source": [
    "%%time\n",
    "\n",
    "X = data_result[['Card Type', 'Gender', 'Geography', 'Surname', 'CreditScore', 'Age', 'Satisfaction Score', 'Point Earned']]\n",
    "Y = data_result['Tenure_value']\n",
    "\n",
    "x_train, x_test, y_train, y_test = train_test_split(X, Y, test_size=0.2, random_state=17)\n",
    "\n",
    "model_logistic_more_informative_features = LogisticRegression().fit(x_train, y_train)"
   ]
  },
  {
   "cell_type": "code",
   "execution_count": 174,
   "id": "65c598db",
   "metadata": {},
   "outputs": [],
   "source": [
    "y_pred = model_logistic_more_informative_features.predict(x_test)"
   ]
  },
  {
   "cell_type": "code",
   "execution_count": 175,
   "id": "f16e0a0d",
   "metadata": {},
   "outputs": [
    {
     "data": {
      "text/plain": [
       "0.8975"
      ]
     },
     "execution_count": 175,
     "metadata": {},
     "output_type": "execute_result"
    }
   ],
   "source": [
    "accuracy_score(y_pred, y_test)"
   ]
  },
  {
   "cell_type": "code",
   "execution_count": 176,
   "id": "6b49e470",
   "metadata": {},
   "outputs": [
    {
     "data": {
      "text/plain": [
       "0.5"
      ]
     },
     "execution_count": 176,
     "metadata": {},
     "output_type": "execute_result"
    }
   ],
   "source": [
    "roc_auc_score(y_test, y_pred)"
   ]
  },
  {
   "cell_type": "code",
   "execution_count": 177,
   "id": "e131ec1e",
   "metadata": {},
   "outputs": [
    {
     "name": "stdout",
     "output_type": "stream",
     "text": [
      "CPU times: total: 93.8 ms\n",
      "Wall time: 99.3 ms\n"
     ]
    }
   ],
   "source": [
    "%%time\n",
    "\n",
    "X = data_result[['Complain', 'Exited', 'IsActiveMember', 'HasCrCard', 'NumOfProducts', 'Card Type', 'Gender', 'Geography', 'Surname', 'CreditScore', 'Age', 'Satisfaction Score', 'Point Earned']]\n",
    "Y = data_result['Tenure_value']\n",
    "\n",
    "x_train, x_test, y_train, y_test = train_test_split(X, Y, test_size=0.2, random_state=17)\n",
    "\n",
    "model_logistic_all_features = LogisticRegression().fit(x_train, y_train)"
   ]
  },
  {
   "cell_type": "code",
   "execution_count": 178,
   "id": "7c5f2fec",
   "metadata": {},
   "outputs": [],
   "source": [
    "y_pred_two = model_logistic_all_features.predict(x_test)"
   ]
  },
  {
   "cell_type": "code",
   "execution_count": 179,
   "id": "a91d5abd",
   "metadata": {},
   "outputs": [
    {
     "data": {
      "text/plain": [
       "0.8975"
      ]
     },
     "execution_count": 179,
     "metadata": {},
     "output_type": "execute_result"
    }
   ],
   "source": [
    "accuracy_score(y_pred_two, y_test)"
   ]
  },
  {
   "cell_type": "code",
   "execution_count": 180,
   "id": "e4047c34",
   "metadata": {},
   "outputs": [
    {
     "data": {
      "text/plain": [
       "0.5"
      ]
     },
     "execution_count": 180,
     "metadata": {},
     "output_type": "execute_result"
    }
   ],
   "source": [
    "roc_auc_score(y_test, y_pred_two)"
   ]
  },
  {
   "cell_type": "markdown",
   "id": "2f261613",
   "metadata": {},
   "source": [
    "Видим, что итоговый скор одинаковый -> мы отобрали верные инфомативные признаки, оптимизировали время с 164 ms до 88.6 ms"
   ]
  },
  {
   "cell_type": "code",
   "execution_count": 181,
   "id": "28f96eae",
   "metadata": {},
   "outputs": [
    {
     "data": {
      "text/html": [
       "<div>\n",
       "<style scoped>\n",
       "    .dataframe tbody tr th:only-of-type {\n",
       "        vertical-align: middle;\n",
       "    }\n",
       "\n",
       "    .dataframe tbody tr th {\n",
       "        vertical-align: top;\n",
       "    }\n",
       "\n",
       "    .dataframe thead th {\n",
       "        text-align: right;\n",
       "    }\n",
       "</style>\n",
       "<table border=\"1\" class=\"dataframe\">\n",
       "  <thead>\n",
       "    <tr style=\"text-align: right;\">\n",
       "      <th></th>\n",
       "      <th>0</th>\n",
       "      <th>1</th>\n",
       "      <th>2</th>\n",
       "      <th>3</th>\n",
       "      <th>4</th>\n",
       "    </tr>\n",
       "  </thead>\n",
       "  <tbody>\n",
       "    <tr>\n",
       "      <th>0</th>\n",
       "      <td>model_logistic_more_informative_features</td>\n",
       "      <td>0.5</td>\n",
       "      <td>0.8975</td>\n",
       "      <td>88.6 ms</td>\n",
       "      <td>78.1 ms</td>\n",
       "    </tr>\n",
       "    <tr>\n",
       "      <th>1</th>\n",
       "      <td>model_logistic_all_features</td>\n",
       "      <td>0.5</td>\n",
       "      <td>0.8975</td>\n",
       "      <td>164 ms</td>\n",
       "      <td>172 ms</td>\n",
       "    </tr>\n",
       "  </tbody>\n",
       "</table>\n",
       "</div>"
      ],
      "text/plain": [
       "                                          0    1       2        3        4\n",
       "0  model_logistic_more_informative_features  0.5  0.8975  88.6 ms  78.1 ms\n",
       "1               model_logistic_all_features  0.5  0.8975   164 ms   172 ms"
      ]
     },
     "execution_count": 181,
     "metadata": {},
     "output_type": "execute_result"
    }
   ],
   "source": [
    "df_result_model = pd.DataFrame([['model_logistic_more_informative_features','0.5', '0.8975', '88.6 ms', '78.1 ms'],\n",
    "             ['model_logistic_all_features', '0.5','0.8975', '164 ms', '172 ms']])\n",
    "\n",
    "df_result_model"
   ]
  },
  {
   "cell_type": "code",
   "execution_count": 182,
   "id": "eaeba65f",
   "metadata": {},
   "outputs": [],
   "source": [
    "df_result_model.columns = ['model', 'roc_auc_score', 'accuracy_score', 'Wall time', 'CPU times']"
   ]
  },
  {
   "cell_type": "code",
   "execution_count": 183,
   "id": "48f1edb2",
   "metadata": {},
   "outputs": [
    {
     "data": {
      "text/html": [
       "<div>\n",
       "<style scoped>\n",
       "    .dataframe tbody tr th:only-of-type {\n",
       "        vertical-align: middle;\n",
       "    }\n",
       "\n",
       "    .dataframe tbody tr th {\n",
       "        vertical-align: top;\n",
       "    }\n",
       "\n",
       "    .dataframe thead th {\n",
       "        text-align: right;\n",
       "    }\n",
       "</style>\n",
       "<table border=\"1\" class=\"dataframe\">\n",
       "  <thead>\n",
       "    <tr style=\"text-align: right;\">\n",
       "      <th></th>\n",
       "      <th>model</th>\n",
       "      <th>roc_auc_score</th>\n",
       "      <th>accuracy_score</th>\n",
       "      <th>Wall time</th>\n",
       "      <th>CPU times</th>\n",
       "    </tr>\n",
       "  </thead>\n",
       "  <tbody>\n",
       "    <tr>\n",
       "      <th>0</th>\n",
       "      <td>model_logistic_more_informative_features</td>\n",
       "      <td>0.5</td>\n",
       "      <td>0.8975</td>\n",
       "      <td>88.6 ms</td>\n",
       "      <td>78.1 ms</td>\n",
       "    </tr>\n",
       "    <tr>\n",
       "      <th>1</th>\n",
       "      <td>model_logistic_all_features</td>\n",
       "      <td>0.5</td>\n",
       "      <td>0.8975</td>\n",
       "      <td>164 ms</td>\n",
       "      <td>172 ms</td>\n",
       "    </tr>\n",
       "  </tbody>\n",
       "</table>\n",
       "</div>"
      ],
      "text/plain": [
       "                                      model roc_auc_score accuracy_score  \\\n",
       "0  model_logistic_more_informative_features           0.5         0.8975   \n",
       "1               model_logistic_all_features           0.5         0.8975   \n",
       "\n",
       "  Wall time CPU times  \n",
       "0   88.6 ms   78.1 ms  \n",
       "1    164 ms    172 ms  "
      ]
     },
     "execution_count": 183,
     "metadata": {},
     "output_type": "execute_result"
    }
   ],
   "source": [
    "df_result_model"
   ]
  },
  {
   "cell_type": "markdown",
   "id": "63723ae8",
   "metadata": {},
   "source": [
    "Так как наша KPI метрика - это accuracy_score, то она равна 90%, если округлить, это значит, что мы ошибочно прогнозируем 10% данных -> потенциально теряем 10% клиентов, а значит если наша общее число клиентов равно 1.000.000, то мы потенциально теряем 100.000 клиентов из-за неправильного прогноза, таким образом, нам нужно улучшить accuracy_score минимум до 95%"
   ]
  },
  {
   "cell_type": "markdown",
   "id": "859e76d1",
   "metadata": {},
   "source": [
    "Что можно сделать: \n",
    "    \n",
    "    1. Использовать другую модель\n",
    "    \n",
    "    2. Создать более информативный признак на основе имеющихся \n",
    "    \n",
    "    3. Покрутить гиперпараметры других моделей \n",
    "    \n",
    "    4. Использовать ансамбль моделей \n",
    "    \n",
    "    5. Поработать более лучше с данными, например, понизить размерность или привести к одному масштабу, если он сильно различается\n",
    "    \n",
    "    6. Поработать с кросс-валидацей, поразбивать датасет на фолды, разными методами, посмотреть на итоговый скор"
   ]
  },
  {
   "cell_type": "markdown",
   "id": "535032f2",
   "metadata": {},
   "source": [
    "Попробуем другие модели, в качестве фичей будем брать те, которые показали лучшее время"
   ]
  },
  {
   "cell_type": "code",
   "execution_count": 184,
   "id": "a9a15d6a",
   "metadata": {},
   "outputs": [],
   "source": [
    "accuracy_score_dict = {'3':'0.871', '4':'0.871', '5':'0.871'}\n",
    "roc_auc_score_dict = {'3':'0.496', '4':'0.496', '5':'0.496'}\n",
    "\n",
    "wall_time = {'3':'21 ms', '4':'35.1 ms', '5':'27 ms'}\n",
    "cpu_time = {'3':'15.6 ms', '4':'62.5 ms', '5':'31.2 ms'}\n",
    "\n",
    "X = data_result[['Card Type', 'Gender', 'Geography', 'Surname', 'CreditScore', 'Age', 'Satisfaction Score', 'Point Earned']]\n",
    "Y = data_result['Tenure_value']\n",
    "\n",
    "x_train, x_test, y_train, y_test = train_test_split(X, Y, test_size=0.2, random_state=17)"
   ]
  },
  {
   "cell_type": "code",
   "execution_count": 185,
   "id": "6593dc13",
   "metadata": {},
   "outputs": [
    {
     "name": "stdout",
     "output_type": "stream",
     "text": [
      "CPU times: total: 31.2 ms\n",
      "Wall time: 29.2 ms\n"
     ]
    }
   ],
   "source": [
    "%%time\n",
    "\n",
    "knn_model_3 = KNeighborsClassifier(n_neighbors=3).fit(x_train, y_train)"
   ]
  },
  {
   "cell_type": "code",
   "execution_count": 186,
   "id": "bdd3ea31",
   "metadata": {},
   "outputs": [
    {
     "name": "stdout",
     "output_type": "stream",
     "text": [
      "CPU times: total: 46.9 ms\n",
      "Wall time: 30.1 ms\n"
     ]
    }
   ],
   "source": [
    "%%time\n",
    "\n",
    "knn_model_4 = KNeighborsClassifier(n_neighbors=3).fit(x_train, y_train)"
   ]
  },
  {
   "cell_type": "code",
   "execution_count": 187,
   "id": "da88516e",
   "metadata": {},
   "outputs": [
    {
     "name": "stdout",
     "output_type": "stream",
     "text": [
      "CPU times: total: 15.6 ms\n",
      "Wall time: 42.2 ms\n"
     ]
    }
   ],
   "source": [
    "%%time\n",
    "\n",
    "knn_model_5 = KNeighborsClassifier(n_neighbors=3).fit(x_train, y_train)"
   ]
  },
  {
   "cell_type": "code",
   "execution_count": 188,
   "id": "dbadc3d0",
   "metadata": {},
   "outputs": [],
   "source": [
    "y_pred_3 = knn_model_3.predict(x_test)\n",
    "y_pred_4 = knn_model_4.predict(x_test)\n",
    "y_pred_5 = knn_model_5.predict(x_test)"
   ]
  },
  {
   "cell_type": "code",
   "execution_count": 189,
   "id": "891d6669",
   "metadata": {},
   "outputs": [
    {
     "data": {
      "text/plain": [
       "0.871"
      ]
     },
     "execution_count": 189,
     "metadata": {},
     "output_type": "execute_result"
    }
   ],
   "source": [
    "accuracy_score(y_test, y_pred_3)"
   ]
  },
  {
   "cell_type": "code",
   "execution_count": 190,
   "id": "2bf55ab0",
   "metadata": {},
   "outputs": [
    {
     "data": {
      "text/plain": [
       "0.871"
      ]
     },
     "execution_count": 190,
     "metadata": {},
     "output_type": "execute_result"
    }
   ],
   "source": [
    "accuracy_score(y_test, y_pred_4)"
   ]
  },
  {
   "cell_type": "code",
   "execution_count": 191,
   "id": "f4ef5f42",
   "metadata": {},
   "outputs": [
    {
     "data": {
      "text/plain": [
       "0.871"
      ]
     },
     "execution_count": 191,
     "metadata": {},
     "output_type": "execute_result"
    }
   ],
   "source": [
    "accuracy_score(y_test, y_pred_5)"
   ]
  },
  {
   "cell_type": "code",
   "execution_count": 192,
   "id": "32b1559e",
   "metadata": {},
   "outputs": [
    {
     "data": {
      "text/plain": [
       "0.4960391330932808"
      ]
     },
     "execution_count": 192,
     "metadata": {},
     "output_type": "execute_result"
    }
   ],
   "source": [
    "roc_auc_score(y_test, y_pred_3)"
   ]
  },
  {
   "cell_type": "code",
   "execution_count": 193,
   "id": "1dfe68e6",
   "metadata": {},
   "outputs": [
    {
     "data": {
      "text/plain": [
       "0.4960391330932808"
      ]
     },
     "execution_count": 193,
     "metadata": {},
     "output_type": "execute_result"
    }
   ],
   "source": [
    "roc_auc_score(y_test, y_pred_4)"
   ]
  },
  {
   "cell_type": "code",
   "execution_count": 194,
   "id": "0889237e",
   "metadata": {},
   "outputs": [
    {
     "data": {
      "text/plain": [
       "0.4960391330932808"
      ]
     },
     "execution_count": 194,
     "metadata": {},
     "output_type": "execute_result"
    }
   ],
   "source": [
    "roc_auc_score(y_test, y_pred_5)"
   ]
  },
  {
   "cell_type": "code",
   "execution_count": 195,
   "id": "f09c2624",
   "metadata": {},
   "outputs": [
    {
     "data": {
      "text/html": [
       "<div>\n",
       "<style scoped>\n",
       "    .dataframe tbody tr th:only-of-type {\n",
       "        vertical-align: middle;\n",
       "    }\n",
       "\n",
       "    .dataframe tbody tr th {\n",
       "        vertical-align: top;\n",
       "    }\n",
       "\n",
       "    .dataframe thead th {\n",
       "        text-align: right;\n",
       "    }\n",
       "</style>\n",
       "<table border=\"1\" class=\"dataframe\">\n",
       "  <thead>\n",
       "    <tr style=\"text-align: right;\">\n",
       "      <th></th>\n",
       "      <th>model</th>\n",
       "      <th>roc_auc_score</th>\n",
       "      <th>accuracy_score</th>\n",
       "      <th>Wall time</th>\n",
       "      <th>CPU times</th>\n",
       "    </tr>\n",
       "  </thead>\n",
       "  <tbody>\n",
       "    <tr>\n",
       "      <th>0</th>\n",
       "      <td>model_logistic_more_informative_features</td>\n",
       "      <td>0.5</td>\n",
       "      <td>0.8975</td>\n",
       "      <td>88.6 ms</td>\n",
       "      <td>78.1 ms</td>\n",
       "    </tr>\n",
       "    <tr>\n",
       "      <th>1</th>\n",
       "      <td>model_logistic_all_features</td>\n",
       "      <td>0.5</td>\n",
       "      <td>0.8975</td>\n",
       "      <td>164 ms</td>\n",
       "      <td>172 ms</td>\n",
       "    </tr>\n",
       "  </tbody>\n",
       "</table>\n",
       "</div>"
      ],
      "text/plain": [
       "                                      model roc_auc_score accuracy_score  \\\n",
       "0  model_logistic_more_informative_features           0.5         0.8975   \n",
       "1               model_logistic_all_features           0.5         0.8975   \n",
       "\n",
       "  Wall time CPU times  \n",
       "0   88.6 ms   78.1 ms  \n",
       "1    164 ms    172 ms  "
      ]
     },
     "execution_count": 195,
     "metadata": {},
     "output_type": "execute_result"
    }
   ],
   "source": [
    "df_result_model"
   ]
  },
  {
   "cell_type": "code",
   "execution_count": 196,
   "id": "c17ba4b7",
   "metadata": {},
   "outputs": [
    {
     "data": {
      "text/html": [
       "<div>\n",
       "<style scoped>\n",
       "    .dataframe tbody tr th:only-of-type {\n",
       "        vertical-align: middle;\n",
       "    }\n",
       "\n",
       "    .dataframe tbody tr th {\n",
       "        vertical-align: top;\n",
       "    }\n",
       "\n",
       "    .dataframe thead th {\n",
       "        text-align: right;\n",
       "    }\n",
       "</style>\n",
       "<table border=\"1\" class=\"dataframe\">\n",
       "  <thead>\n",
       "    <tr style=\"text-align: right;\">\n",
       "      <th></th>\n",
       "      <th>model</th>\n",
       "      <th>roc_auc_score</th>\n",
       "      <th>accuracy_score</th>\n",
       "      <th>Wall time</th>\n",
       "      <th>CPU times</th>\n",
       "    </tr>\n",
       "  </thead>\n",
       "  <tbody>\n",
       "    <tr>\n",
       "      <th>0</th>\n",
       "      <td>knn_model_3</td>\n",
       "      <td>0.496</td>\n",
       "      <td>0.871</td>\n",
       "      <td>21 ms</td>\n",
       "      <td>15.6 ms</td>\n",
       "    </tr>\n",
       "    <tr>\n",
       "      <th>1</th>\n",
       "      <td>knn_model_4</td>\n",
       "      <td>0.496</td>\n",
       "      <td>0.871</td>\n",
       "      <td>35.1 ms</td>\n",
       "      <td>62.5 ms</td>\n",
       "    </tr>\n",
       "    <tr>\n",
       "      <th>2</th>\n",
       "      <td>knn_model_5</td>\n",
       "      <td>0.496</td>\n",
       "      <td>0.871</td>\n",
       "      <td>27 ms</td>\n",
       "      <td>31.2 ms</td>\n",
       "    </tr>\n",
       "  </tbody>\n",
       "</table>\n",
       "</div>"
      ],
      "text/plain": [
       "         model roc_auc_score accuracy_score Wall time CPU times\n",
       "0  knn_model_3         0.496          0.871     21 ms   15.6 ms\n",
       "1  knn_model_4         0.496          0.871   35.1 ms   62.5 ms\n",
       "2  knn_model_5         0.496          0.871     27 ms   31.2 ms"
      ]
     },
     "execution_count": 196,
     "metadata": {},
     "output_type": "execute_result"
    }
   ],
   "source": [
    "data_knn = pd.DataFrame([['knn_model_3', roc_auc_score_dict['3'], accuracy_score_dict['3'], wall_time['3'], cpu_time['3']],\n",
    "              ['knn_model_4', roc_auc_score_dict['4'], accuracy_score_dict['4'], wall_time['4'], cpu_time['4']],\n",
    "              ['knn_model_5', roc_auc_score_dict['5'], accuracy_score_dict['5'], wall_time['5'], cpu_time['5']]])\n",
    "\n",
    "\n",
    "data_knn.columns = ['model', 'roc_auc_score', 'accuracy_score', 'Wall time', 'CPU times']\n",
    "\n",
    "data_knn"
   ]
  },
  {
   "cell_type": "code",
   "execution_count": 197,
   "id": "fbc48468",
   "metadata": {},
   "outputs": [
    {
     "data": {
      "text/html": [
       "<div>\n",
       "<style scoped>\n",
       "    .dataframe tbody tr th:only-of-type {\n",
       "        vertical-align: middle;\n",
       "    }\n",
       "\n",
       "    .dataframe tbody tr th {\n",
       "        vertical-align: top;\n",
       "    }\n",
       "\n",
       "    .dataframe thead th {\n",
       "        text-align: right;\n",
       "    }\n",
       "</style>\n",
       "<table border=\"1\" class=\"dataframe\">\n",
       "  <thead>\n",
       "    <tr style=\"text-align: right;\">\n",
       "      <th></th>\n",
       "      <th>model</th>\n",
       "      <th>roc_auc_score</th>\n",
       "      <th>accuracy_score</th>\n",
       "      <th>Wall time</th>\n",
       "      <th>CPU times</th>\n",
       "    </tr>\n",
       "  </thead>\n",
       "  <tbody>\n",
       "    <tr>\n",
       "      <th>0</th>\n",
       "      <td>model_logistic_more_informative_features</td>\n",
       "      <td>0.5</td>\n",
       "      <td>0.8975</td>\n",
       "      <td>88.6 ms</td>\n",
       "      <td>78.1 ms</td>\n",
       "    </tr>\n",
       "    <tr>\n",
       "      <th>1</th>\n",
       "      <td>model_logistic_all_features</td>\n",
       "      <td>0.5</td>\n",
       "      <td>0.8975</td>\n",
       "      <td>164 ms</td>\n",
       "      <td>172 ms</td>\n",
       "    </tr>\n",
       "    <tr>\n",
       "      <th>0</th>\n",
       "      <td>knn_model_3</td>\n",
       "      <td>0.496</td>\n",
       "      <td>0.871</td>\n",
       "      <td>21 ms</td>\n",
       "      <td>15.6 ms</td>\n",
       "    </tr>\n",
       "    <tr>\n",
       "      <th>1</th>\n",
       "      <td>knn_model_4</td>\n",
       "      <td>0.496</td>\n",
       "      <td>0.871</td>\n",
       "      <td>35.1 ms</td>\n",
       "      <td>62.5 ms</td>\n",
       "    </tr>\n",
       "    <tr>\n",
       "      <th>2</th>\n",
       "      <td>knn_model_5</td>\n",
       "      <td>0.496</td>\n",
       "      <td>0.871</td>\n",
       "      <td>27 ms</td>\n",
       "      <td>31.2 ms</td>\n",
       "    </tr>\n",
       "  </tbody>\n",
       "</table>\n",
       "</div>"
      ],
      "text/plain": [
       "                                      model roc_auc_score accuracy_score  \\\n",
       "0  model_logistic_more_informative_features           0.5         0.8975   \n",
       "1               model_logistic_all_features           0.5         0.8975   \n",
       "0                               knn_model_3         0.496          0.871   \n",
       "1                               knn_model_4         0.496          0.871   \n",
       "2                               knn_model_5         0.496          0.871   \n",
       "\n",
       "  Wall time CPU times  \n",
       "0   88.6 ms   78.1 ms  \n",
       "1    164 ms    172 ms  \n",
       "0     21 ms   15.6 ms  \n",
       "1   35.1 ms   62.5 ms  \n",
       "2     27 ms   31.2 ms  "
      ]
     },
     "execution_count": 197,
     "metadata": {},
     "output_type": "execute_result"
    }
   ],
   "source": [
    "df_result_model = df_result_model.append(data_knn)\n",
    "df_result_model"
   ]
  },
  {
   "cell_type": "code",
   "execution_count": 198,
   "id": "15e9be14",
   "metadata": {},
   "outputs": [
    {
     "data": {
      "text/html": [
       "<style>#sk-container-id-7 {color: black;background-color: white;}#sk-container-id-7 pre{padding: 0;}#sk-container-id-7 div.sk-toggleable {background-color: white;}#sk-container-id-7 label.sk-toggleable__label {cursor: pointer;display: block;width: 100%;margin-bottom: 0;padding: 0.3em;box-sizing: border-box;text-align: center;}#sk-container-id-7 label.sk-toggleable__label-arrow:before {content: \"▸\";float: left;margin-right: 0.25em;color: #696969;}#sk-container-id-7 label.sk-toggleable__label-arrow:hover:before {color: black;}#sk-container-id-7 div.sk-estimator:hover label.sk-toggleable__label-arrow:before {color: black;}#sk-container-id-7 div.sk-toggleable__content {max-height: 0;max-width: 0;overflow: hidden;text-align: left;background-color: #f0f8ff;}#sk-container-id-7 div.sk-toggleable__content pre {margin: 0.2em;color: black;border-radius: 0.25em;background-color: #f0f8ff;}#sk-container-id-7 input.sk-toggleable__control:checked~div.sk-toggleable__content {max-height: 200px;max-width: 100%;overflow: auto;}#sk-container-id-7 input.sk-toggleable__control:checked~label.sk-toggleable__label-arrow:before {content: \"▾\";}#sk-container-id-7 div.sk-estimator input.sk-toggleable__control:checked~label.sk-toggleable__label {background-color: #d4ebff;}#sk-container-id-7 div.sk-label input.sk-toggleable__control:checked~label.sk-toggleable__label {background-color: #d4ebff;}#sk-container-id-7 input.sk-hidden--visually {border: 0;clip: rect(1px 1px 1px 1px);clip: rect(1px, 1px, 1px, 1px);height: 1px;margin: -1px;overflow: hidden;padding: 0;position: absolute;width: 1px;}#sk-container-id-7 div.sk-estimator {font-family: monospace;background-color: #f0f8ff;border: 1px dotted black;border-radius: 0.25em;box-sizing: border-box;margin-bottom: 0.5em;}#sk-container-id-7 div.sk-estimator:hover {background-color: #d4ebff;}#sk-container-id-7 div.sk-parallel-item::after {content: \"\";width: 100%;border-bottom: 1px solid gray;flex-grow: 1;}#sk-container-id-7 div.sk-label:hover label.sk-toggleable__label {background-color: #d4ebff;}#sk-container-id-7 div.sk-serial::before {content: \"\";position: absolute;border-left: 1px solid gray;box-sizing: border-box;top: 0;bottom: 0;left: 50%;z-index: 0;}#sk-container-id-7 div.sk-serial {display: flex;flex-direction: column;align-items: center;background-color: white;padding-right: 0.2em;padding-left: 0.2em;position: relative;}#sk-container-id-7 div.sk-item {position: relative;z-index: 1;}#sk-container-id-7 div.sk-parallel {display: flex;align-items: stretch;justify-content: center;background-color: white;position: relative;}#sk-container-id-7 div.sk-item::before, #sk-container-id-7 div.sk-parallel-item::before {content: \"\";position: absolute;border-left: 1px solid gray;box-sizing: border-box;top: 0;bottom: 0;left: 50%;z-index: -1;}#sk-container-id-7 div.sk-parallel-item {display: flex;flex-direction: column;z-index: 1;position: relative;background-color: white;}#sk-container-id-7 div.sk-parallel-item:first-child::after {align-self: flex-end;width: 50%;}#sk-container-id-7 div.sk-parallel-item:last-child::after {align-self: flex-start;width: 50%;}#sk-container-id-7 div.sk-parallel-item:only-child::after {width: 0;}#sk-container-id-7 div.sk-dashed-wrapped {border: 1px dashed gray;margin: 0 0.4em 0.5em 0.4em;box-sizing: border-box;padding-bottom: 0.4em;background-color: white;}#sk-container-id-7 div.sk-label label {font-family: monospace;font-weight: bold;display: inline-block;line-height: 1.2em;}#sk-container-id-7 div.sk-label-container {text-align: center;}#sk-container-id-7 div.sk-container {/* jupyter's `normalize.less` sets `[hidden] { display: none; }` but bootstrap.min.css set `[hidden] { display: none !important; }` so we also need the `!important` here to be able to override the default hidden behavior on the sphinx rendered scikit-learn.org. See: https://github.com/scikit-learn/scikit-learn/issues/21755 */display: inline-block !important;position: relative;}#sk-container-id-7 div.sk-text-repr-fallback {display: none;}</style><div id=\"sk-container-id-7\" class=\"sk-top-container\"><div class=\"sk-text-repr-fallback\"><pre>GaussianNB()</pre><b>In a Jupyter environment, please rerun this cell to show the HTML representation or trust the notebook. <br />On GitHub, the HTML representation is unable to render, please try loading this page with nbviewer.org.</b></div><div class=\"sk-container\" hidden><div class=\"sk-item\"><div class=\"sk-estimator sk-toggleable\"><input class=\"sk-toggleable__control sk-hidden--visually\" id=\"sk-estimator-id-7\" type=\"checkbox\" checked><label for=\"sk-estimator-id-7\" class=\"sk-toggleable__label sk-toggleable__label-arrow\">GaussianNB</label><div class=\"sk-toggleable__content\"><pre>GaussianNB()</pre></div></div></div></div></div>"
      ],
      "text/plain": [
       "GaussianNB()"
      ]
     },
     "execution_count": 198,
     "metadata": {},
     "output_type": "execute_result"
    }
   ],
   "source": [
    "#Попробуем нативный байесовский классификатор \n",
    "nb_gaussianNB = GaussianNB()\n",
    "\n",
    "X = data_result[['Card Type', 'Gender', 'Geography', 'Surname', 'CreditScore', 'Age', 'Satisfaction Score', 'Point Earned']]\n",
    "Y = data_result['Tenure_value']\n",
    "\n",
    "x_train, x_test, y_train, y_test = train_test_split(X, Y, test_size=0.2, random_state=17)\n",
    "\n",
    "nb_gaussianNB.fit(x_train, y_train)"
   ]
  },
  {
   "cell_type": "code",
   "execution_count": 199,
   "id": "062ea796",
   "metadata": {},
   "outputs": [
    {
     "name": "stdout",
     "output_type": "stream",
     "text": [
      "CPU times: total: 15.6 ms\n",
      "Wall time: 10.2 ms\n"
     ]
    },
    {
     "data": {
      "text/html": [
       "<style>#sk-container-id-8 {color: black;background-color: white;}#sk-container-id-8 pre{padding: 0;}#sk-container-id-8 div.sk-toggleable {background-color: white;}#sk-container-id-8 label.sk-toggleable__label {cursor: pointer;display: block;width: 100%;margin-bottom: 0;padding: 0.3em;box-sizing: border-box;text-align: center;}#sk-container-id-8 label.sk-toggleable__label-arrow:before {content: \"▸\";float: left;margin-right: 0.25em;color: #696969;}#sk-container-id-8 label.sk-toggleable__label-arrow:hover:before {color: black;}#sk-container-id-8 div.sk-estimator:hover label.sk-toggleable__label-arrow:before {color: black;}#sk-container-id-8 div.sk-toggleable__content {max-height: 0;max-width: 0;overflow: hidden;text-align: left;background-color: #f0f8ff;}#sk-container-id-8 div.sk-toggleable__content pre {margin: 0.2em;color: black;border-radius: 0.25em;background-color: #f0f8ff;}#sk-container-id-8 input.sk-toggleable__control:checked~div.sk-toggleable__content {max-height: 200px;max-width: 100%;overflow: auto;}#sk-container-id-8 input.sk-toggleable__control:checked~label.sk-toggleable__label-arrow:before {content: \"▾\";}#sk-container-id-8 div.sk-estimator input.sk-toggleable__control:checked~label.sk-toggleable__label {background-color: #d4ebff;}#sk-container-id-8 div.sk-label input.sk-toggleable__control:checked~label.sk-toggleable__label {background-color: #d4ebff;}#sk-container-id-8 input.sk-hidden--visually {border: 0;clip: rect(1px 1px 1px 1px);clip: rect(1px, 1px, 1px, 1px);height: 1px;margin: -1px;overflow: hidden;padding: 0;position: absolute;width: 1px;}#sk-container-id-8 div.sk-estimator {font-family: monospace;background-color: #f0f8ff;border: 1px dotted black;border-radius: 0.25em;box-sizing: border-box;margin-bottom: 0.5em;}#sk-container-id-8 div.sk-estimator:hover {background-color: #d4ebff;}#sk-container-id-8 div.sk-parallel-item::after {content: \"\";width: 100%;border-bottom: 1px solid gray;flex-grow: 1;}#sk-container-id-8 div.sk-label:hover label.sk-toggleable__label {background-color: #d4ebff;}#sk-container-id-8 div.sk-serial::before {content: \"\";position: absolute;border-left: 1px solid gray;box-sizing: border-box;top: 0;bottom: 0;left: 50%;z-index: 0;}#sk-container-id-8 div.sk-serial {display: flex;flex-direction: column;align-items: center;background-color: white;padding-right: 0.2em;padding-left: 0.2em;position: relative;}#sk-container-id-8 div.sk-item {position: relative;z-index: 1;}#sk-container-id-8 div.sk-parallel {display: flex;align-items: stretch;justify-content: center;background-color: white;position: relative;}#sk-container-id-8 div.sk-item::before, #sk-container-id-8 div.sk-parallel-item::before {content: \"\";position: absolute;border-left: 1px solid gray;box-sizing: border-box;top: 0;bottom: 0;left: 50%;z-index: -1;}#sk-container-id-8 div.sk-parallel-item {display: flex;flex-direction: column;z-index: 1;position: relative;background-color: white;}#sk-container-id-8 div.sk-parallel-item:first-child::after {align-self: flex-end;width: 50%;}#sk-container-id-8 div.sk-parallel-item:last-child::after {align-self: flex-start;width: 50%;}#sk-container-id-8 div.sk-parallel-item:only-child::after {width: 0;}#sk-container-id-8 div.sk-dashed-wrapped {border: 1px dashed gray;margin: 0 0.4em 0.5em 0.4em;box-sizing: border-box;padding-bottom: 0.4em;background-color: white;}#sk-container-id-8 div.sk-label label {font-family: monospace;font-weight: bold;display: inline-block;line-height: 1.2em;}#sk-container-id-8 div.sk-label-container {text-align: center;}#sk-container-id-8 div.sk-container {/* jupyter's `normalize.less` sets `[hidden] { display: none; }` but bootstrap.min.css set `[hidden] { display: none !important; }` so we also need the `!important` here to be able to override the default hidden behavior on the sphinx rendered scikit-learn.org. See: https://github.com/scikit-learn/scikit-learn/issues/21755 */display: inline-block !important;position: relative;}#sk-container-id-8 div.sk-text-repr-fallback {display: none;}</style><div id=\"sk-container-id-8\" class=\"sk-top-container\"><div class=\"sk-text-repr-fallback\"><pre>GaussianNB()</pre><b>In a Jupyter environment, please rerun this cell to show the HTML representation or trust the notebook. <br />On GitHub, the HTML representation is unable to render, please try loading this page with nbviewer.org.</b></div><div class=\"sk-container\" hidden><div class=\"sk-item\"><div class=\"sk-estimator sk-toggleable\"><input class=\"sk-toggleable__control sk-hidden--visually\" id=\"sk-estimator-id-8\" type=\"checkbox\" checked><label for=\"sk-estimator-id-8\" class=\"sk-toggleable__label sk-toggleable__label-arrow\">GaussianNB</label><div class=\"sk-toggleable__content\"><pre>GaussianNB()</pre></div></div></div></div></div>"
      ],
      "text/plain": [
       "GaussianNB()"
      ]
     },
     "execution_count": 199,
     "metadata": {},
     "output_type": "execute_result"
    }
   ],
   "source": [
    "%%time\n",
    "\n",
    "nb_gaussianNB.fit(x_train, y_train)"
   ]
  },
  {
   "cell_type": "code",
   "execution_count": 200,
   "id": "cc5d4949",
   "metadata": {},
   "outputs": [],
   "source": [
    "y_pred_nb = nb_gaussianNB.predict(x_test)"
   ]
  },
  {
   "cell_type": "code",
   "execution_count": 201,
   "id": "0c5d84ba",
   "metadata": {},
   "outputs": [
    {
     "name": "stdout",
     "output_type": "stream",
     "text": [
      "accuracy = 0.8975, roc_auc_score = 0.5\n"
     ]
    }
   ],
   "source": [
    "print(f\"accuracy = {accuracy_score(y_test, y_pred_nb)}, roc_auc_score = {roc_auc_score(y_test, y_pred_nb)}\")"
   ]
  },
  {
   "cell_type": "code",
   "execution_count": 202,
   "id": "d806df7d",
   "metadata": {},
   "outputs": [
    {
     "data": {
      "text/html": [
       "<div>\n",
       "<style scoped>\n",
       "    .dataframe tbody tr th:only-of-type {\n",
       "        vertical-align: middle;\n",
       "    }\n",
       "\n",
       "    .dataframe tbody tr th {\n",
       "        vertical-align: top;\n",
       "    }\n",
       "\n",
       "    .dataframe thead th {\n",
       "        text-align: right;\n",
       "    }\n",
       "</style>\n",
       "<table border=\"1\" class=\"dataframe\">\n",
       "  <thead>\n",
       "    <tr style=\"text-align: right;\">\n",
       "      <th></th>\n",
       "      <th>0</th>\n",
       "      <th>1</th>\n",
       "      <th>2</th>\n",
       "      <th>3</th>\n",
       "      <th>4</th>\n",
       "    </tr>\n",
       "  </thead>\n",
       "  <tbody>\n",
       "    <tr>\n",
       "      <th>0</th>\n",
       "      <td>nb_gaussianNB</td>\n",
       "      <td>0.5</td>\n",
       "      <td>0.8975</td>\n",
       "      <td>6.88 ms</td>\n",
       "      <td>0 ns</td>\n",
       "    </tr>\n",
       "  </tbody>\n",
       "</table>\n",
       "</div>"
      ],
      "text/plain": [
       "               0    1       2        3     4\n",
       "0  nb_gaussianNB  0.5  0.8975  6.88 ms  0 ns"
      ]
     },
     "execution_count": 202,
     "metadata": {},
     "output_type": "execute_result"
    }
   ],
   "source": [
    "data_res = pd.DataFrame([['nb_gaussianNB', roc_auc_score(y_test, y_pred_nb), accuracy_score(y_test, y_pred_nb), '6.88 ms', '0 ns']])\n",
    "data_res"
   ]
  },
  {
   "cell_type": "code",
   "execution_count": 203,
   "id": "f92feb19",
   "metadata": {},
   "outputs": [],
   "source": [
    "data_res.columns = ['model', 'roc_auc_score', 'accuracy_score', 'Wall time', 'CPU times']"
   ]
  },
  {
   "cell_type": "code",
   "execution_count": 204,
   "id": "c16c11ff",
   "metadata": {},
   "outputs": [
    {
     "data": {
      "text/html": [
       "<div>\n",
       "<style scoped>\n",
       "    .dataframe tbody tr th:only-of-type {\n",
       "        vertical-align: middle;\n",
       "    }\n",
       "\n",
       "    .dataframe tbody tr th {\n",
       "        vertical-align: top;\n",
       "    }\n",
       "\n",
       "    .dataframe thead th {\n",
       "        text-align: right;\n",
       "    }\n",
       "</style>\n",
       "<table border=\"1\" class=\"dataframe\">\n",
       "  <thead>\n",
       "    <tr style=\"text-align: right;\">\n",
       "      <th></th>\n",
       "      <th>model</th>\n",
       "      <th>roc_auc_score</th>\n",
       "      <th>accuracy_score</th>\n",
       "      <th>Wall time</th>\n",
       "      <th>CPU times</th>\n",
       "    </tr>\n",
       "  </thead>\n",
       "  <tbody>\n",
       "    <tr>\n",
       "      <th>0</th>\n",
       "      <td>nb_gaussianNB</td>\n",
       "      <td>0.5</td>\n",
       "      <td>0.8975</td>\n",
       "      <td>6.88 ms</td>\n",
       "      <td>0 ns</td>\n",
       "    </tr>\n",
       "  </tbody>\n",
       "</table>\n",
       "</div>"
      ],
      "text/plain": [
       "           model  roc_auc_score  accuracy_score Wall time CPU times\n",
       "0  nb_gaussianNB            0.5          0.8975   6.88 ms      0 ns"
      ]
     },
     "execution_count": 204,
     "metadata": {},
     "output_type": "execute_result"
    }
   ],
   "source": [
    "data_res"
   ]
  },
  {
   "cell_type": "code",
   "execution_count": 205,
   "id": "72019f73",
   "metadata": {},
   "outputs": [
    {
     "data": {
      "text/html": [
       "<div>\n",
       "<style scoped>\n",
       "    .dataframe tbody tr th:only-of-type {\n",
       "        vertical-align: middle;\n",
       "    }\n",
       "\n",
       "    .dataframe tbody tr th {\n",
       "        vertical-align: top;\n",
       "    }\n",
       "\n",
       "    .dataframe thead th {\n",
       "        text-align: right;\n",
       "    }\n",
       "</style>\n",
       "<table border=\"1\" class=\"dataframe\">\n",
       "  <thead>\n",
       "    <tr style=\"text-align: right;\">\n",
       "      <th></th>\n",
       "      <th>model</th>\n",
       "      <th>roc_auc_score</th>\n",
       "      <th>accuracy_score</th>\n",
       "      <th>Wall time</th>\n",
       "      <th>CPU times</th>\n",
       "    </tr>\n",
       "  </thead>\n",
       "  <tbody>\n",
       "    <tr>\n",
       "      <th>0</th>\n",
       "      <td>model_logistic_more_informative_features</td>\n",
       "      <td>0.5</td>\n",
       "      <td>0.8975</td>\n",
       "      <td>88.6 ms</td>\n",
       "      <td>78.1 ms</td>\n",
       "    </tr>\n",
       "    <tr>\n",
       "      <th>1</th>\n",
       "      <td>model_logistic_all_features</td>\n",
       "      <td>0.5</td>\n",
       "      <td>0.8975</td>\n",
       "      <td>164 ms</td>\n",
       "      <td>172 ms</td>\n",
       "    </tr>\n",
       "    <tr>\n",
       "      <th>0</th>\n",
       "      <td>knn_model_3</td>\n",
       "      <td>0.496</td>\n",
       "      <td>0.871</td>\n",
       "      <td>21 ms</td>\n",
       "      <td>15.6 ms</td>\n",
       "    </tr>\n",
       "    <tr>\n",
       "      <th>1</th>\n",
       "      <td>knn_model_4</td>\n",
       "      <td>0.496</td>\n",
       "      <td>0.871</td>\n",
       "      <td>35.1 ms</td>\n",
       "      <td>62.5 ms</td>\n",
       "    </tr>\n",
       "    <tr>\n",
       "      <th>2</th>\n",
       "      <td>knn_model_5</td>\n",
       "      <td>0.496</td>\n",
       "      <td>0.871</td>\n",
       "      <td>27 ms</td>\n",
       "      <td>31.2 ms</td>\n",
       "    </tr>\n",
       "    <tr>\n",
       "      <th>0</th>\n",
       "      <td>nb_gaussianNB</td>\n",
       "      <td>0.5</td>\n",
       "      <td>0.8975</td>\n",
       "      <td>6.88 ms</td>\n",
       "      <td>0 ns</td>\n",
       "    </tr>\n",
       "  </tbody>\n",
       "</table>\n",
       "</div>"
      ],
      "text/plain": [
       "                                      model roc_auc_score accuracy_score  \\\n",
       "0  model_logistic_more_informative_features           0.5         0.8975   \n",
       "1               model_logistic_all_features           0.5         0.8975   \n",
       "0                               knn_model_3         0.496          0.871   \n",
       "1                               knn_model_4         0.496          0.871   \n",
       "2                               knn_model_5         0.496          0.871   \n",
       "0                             nb_gaussianNB           0.5         0.8975   \n",
       "\n",
       "  Wall time CPU times  \n",
       "0   88.6 ms   78.1 ms  \n",
       "1    164 ms    172 ms  \n",
       "0     21 ms   15.6 ms  \n",
       "1   35.1 ms   62.5 ms  \n",
       "2     27 ms   31.2 ms  \n",
       "0   6.88 ms      0 ns  "
      ]
     },
     "execution_count": 205,
     "metadata": {},
     "output_type": "execute_result"
    }
   ],
   "source": [
    "df_result_model = df_result_model.append(data_res)\n",
    "df_result_model"
   ]
  },
  {
   "cell_type": "code",
   "execution_count": 206,
   "id": "1b90664e",
   "metadata": {},
   "outputs": [],
   "source": [
    "X = data_result[['Card Type', 'Gender', 'Geography', 'Surname', 'CreditScore', 'Age', 'Satisfaction Score', 'Point Earned']]\n",
    "Y = data_result['Tenure_value']\n",
    "\n",
    "x_train, x_test, y_train, y_test = train_test_split(X, Y, test_size=0.2, random_state=17)\n",
    "\n",
    "db_decision_tree = DecisionTreeClassifier()"
   ]
  },
  {
   "cell_type": "code",
   "execution_count": 207,
   "id": "15c072cc",
   "metadata": {},
   "outputs": [
    {
     "name": "stdout",
     "output_type": "stream",
     "text": [
      "CPU times: total: 78.1 ms\n",
      "Wall time: 94.6 ms\n"
     ]
    }
   ],
   "source": [
    "%%time\n",
    "\n",
    "model_db = db_decision_tree.fit(x_train, y_train)"
   ]
  },
  {
   "cell_type": "code",
   "execution_count": 208,
   "id": "a64370c6",
   "metadata": {},
   "outputs": [],
   "source": [
    "y_pred = model_db.predict(x_test)"
   ]
  },
  {
   "cell_type": "code",
   "execution_count": 209,
   "id": "d2036c8a",
   "metadata": {},
   "outputs": [
    {
     "data": {
      "text/plain": [
       "0.801"
      ]
     },
     "execution_count": 209,
     "metadata": {},
     "output_type": "execute_result"
    }
   ],
   "source": [
    "accuracy_score(y_pred, y_test)"
   ]
  },
  {
   "cell_type": "code",
   "execution_count": 210,
   "id": "78790aa7",
   "metadata": {},
   "outputs": [
    {
     "data": {
      "text/plain": [
       "0.5002166524964223"
      ]
     },
     "execution_count": 210,
     "metadata": {},
     "output_type": "execute_result"
    }
   ],
   "source": [
    "roc_auc_score(y_pred, y_test)"
   ]
  },
  {
   "cell_type": "code",
   "execution_count": 211,
   "id": "82ec725a",
   "metadata": {},
   "outputs": [
    {
     "data": {
      "text/html": [
       "<div>\n",
       "<style scoped>\n",
       "    .dataframe tbody tr th:only-of-type {\n",
       "        vertical-align: middle;\n",
       "    }\n",
       "\n",
       "    .dataframe tbody tr th {\n",
       "        vertical-align: top;\n",
       "    }\n",
       "\n",
       "    .dataframe thead th {\n",
       "        text-align: right;\n",
       "    }\n",
       "</style>\n",
       "<table border=\"1\" class=\"dataframe\">\n",
       "  <thead>\n",
       "    <tr style=\"text-align: right;\">\n",
       "      <th></th>\n",
       "      <th>model</th>\n",
       "      <th>roc_auc_score</th>\n",
       "      <th>accuracy_score</th>\n",
       "      <th>Wall time</th>\n",
       "      <th>CPU times</th>\n",
       "    </tr>\n",
       "  </thead>\n",
       "  <tbody>\n",
       "    <tr>\n",
       "      <th>0</th>\n",
       "      <td>model_db</td>\n",
       "      <td>0.500217</td>\n",
       "      <td>0.801</td>\n",
       "      <td>169 ms</td>\n",
       "      <td>172 ms</td>\n",
       "    </tr>\n",
       "  </tbody>\n",
       "</table>\n",
       "</div>"
      ],
      "text/plain": [
       "      model  roc_auc_score  accuracy_score Wall time CPU times\n",
       "0  model_db       0.500217           0.801    169 ms    172 ms"
      ]
     },
     "execution_count": 211,
     "metadata": {},
     "output_type": "execute_result"
    }
   ],
   "source": [
    "data_res_nb = pd.DataFrame([['model_db', roc_auc_score(y_pred, y_test), accuracy_score(y_pred, y_test), '169 ms', '172 ms']])\n",
    "data_res_nb.columns = ['model', 'roc_auc_score', 'accuracy_score', 'Wall time', 'CPU times']\n",
    "data_res_nb"
   ]
  },
  {
   "cell_type": "code",
   "execution_count": 212,
   "id": "c4c6cabf",
   "metadata": {},
   "outputs": [
    {
     "data": {
      "text/html": [
       "<div>\n",
       "<style scoped>\n",
       "    .dataframe tbody tr th:only-of-type {\n",
       "        vertical-align: middle;\n",
       "    }\n",
       "\n",
       "    .dataframe tbody tr th {\n",
       "        vertical-align: top;\n",
       "    }\n",
       "\n",
       "    .dataframe thead th {\n",
       "        text-align: right;\n",
       "    }\n",
       "</style>\n",
       "<table border=\"1\" class=\"dataframe\">\n",
       "  <thead>\n",
       "    <tr style=\"text-align: right;\">\n",
       "      <th></th>\n",
       "      <th>model</th>\n",
       "      <th>roc_auc_score</th>\n",
       "      <th>accuracy_score</th>\n",
       "      <th>Wall time</th>\n",
       "      <th>CPU times</th>\n",
       "    </tr>\n",
       "  </thead>\n",
       "  <tbody>\n",
       "    <tr>\n",
       "      <th>0</th>\n",
       "      <td>model_logistic_more_informative_features</td>\n",
       "      <td>0.5</td>\n",
       "      <td>0.8975</td>\n",
       "      <td>88.6 ms</td>\n",
       "      <td>78.1 ms</td>\n",
       "    </tr>\n",
       "    <tr>\n",
       "      <th>1</th>\n",
       "      <td>model_logistic_all_features</td>\n",
       "      <td>0.5</td>\n",
       "      <td>0.8975</td>\n",
       "      <td>164 ms</td>\n",
       "      <td>172 ms</td>\n",
       "    </tr>\n",
       "    <tr>\n",
       "      <th>0</th>\n",
       "      <td>knn_model_3</td>\n",
       "      <td>0.496</td>\n",
       "      <td>0.871</td>\n",
       "      <td>21 ms</td>\n",
       "      <td>15.6 ms</td>\n",
       "    </tr>\n",
       "    <tr>\n",
       "      <th>1</th>\n",
       "      <td>knn_model_4</td>\n",
       "      <td>0.496</td>\n",
       "      <td>0.871</td>\n",
       "      <td>35.1 ms</td>\n",
       "      <td>62.5 ms</td>\n",
       "    </tr>\n",
       "    <tr>\n",
       "      <th>2</th>\n",
       "      <td>knn_model_5</td>\n",
       "      <td>0.496</td>\n",
       "      <td>0.871</td>\n",
       "      <td>27 ms</td>\n",
       "      <td>31.2 ms</td>\n",
       "    </tr>\n",
       "    <tr>\n",
       "      <th>0</th>\n",
       "      <td>nb_gaussianNB</td>\n",
       "      <td>0.5</td>\n",
       "      <td>0.8975</td>\n",
       "      <td>6.88 ms</td>\n",
       "      <td>0 ns</td>\n",
       "    </tr>\n",
       "    <tr>\n",
       "      <th>0</th>\n",
       "      <td>model_db</td>\n",
       "      <td>0.500217</td>\n",
       "      <td>0.801</td>\n",
       "      <td>169 ms</td>\n",
       "      <td>172 ms</td>\n",
       "    </tr>\n",
       "  </tbody>\n",
       "</table>\n",
       "</div>"
      ],
      "text/plain": [
       "                                      model roc_auc_score accuracy_score  \\\n",
       "0  model_logistic_more_informative_features           0.5         0.8975   \n",
       "1               model_logistic_all_features           0.5         0.8975   \n",
       "0                               knn_model_3         0.496          0.871   \n",
       "1                               knn_model_4         0.496          0.871   \n",
       "2                               knn_model_5         0.496          0.871   \n",
       "0                             nb_gaussianNB           0.5         0.8975   \n",
       "0                                  model_db      0.500217          0.801   \n",
       "\n",
       "  Wall time CPU times  \n",
       "0   88.6 ms   78.1 ms  \n",
       "1    164 ms    172 ms  \n",
       "0     21 ms   15.6 ms  \n",
       "1   35.1 ms   62.5 ms  \n",
       "2     27 ms   31.2 ms  \n",
       "0   6.88 ms      0 ns  \n",
       "0    169 ms    172 ms  "
      ]
     },
     "execution_count": 212,
     "metadata": {},
     "output_type": "execute_result"
    }
   ],
   "source": [
    "df_result_model = df_result_model.append(data_res_nb)\n",
    "df_result_model"
   ]
  },
  {
   "cell_type": "markdown",
   "id": "976bee4e",
   "metadata": {},
   "source": [
    "Попробуем модели ансамблей алгоритмов на самых информативных признаках. Мы получим какой-то результат. Сравним полученный результат с результатами из таблицы. Выберем лучшую модели, попробуем покрутить гиперпараметры и подумаем над признаками, возможно стоит сделать более качественный признак + можно рассмотреть другой порог отнесения к одному или другому классу. Выбрать, например, медиану значений целевой переменной, как порог отнесения к одному или другому классу. И поразбивать датасет на фолды, конечно, разными способами для увеличения точность по accuracy + качественнее поработать с переобучением модели (ввиду этого точность может увеличиться)"
   ]
  },
  {
   "cell_type": "code",
   "execution_count": 213,
   "id": "ca13adc7",
   "metadata": {},
   "outputs": [],
   "source": [
    "import time\n",
    "\n",
    "X = data_result[['Card Type', 'Gender', 'Geography', 'Surname', 'CreditScore', 'Age', 'Satisfaction Score', 'Point Earned']]\n",
    "Y = data_result['Tenure_value']\n",
    "\n",
    "trees = [1] + list(range(10, 130, 10))\n",
    "targets = Y\n",
    "data = X\n",
    "\n",
    "ada_scoring_accuracy = {} #считаем accuracy для количества деревьев равное tree из цикла\n",
    "ada_scoring_roc_auc = {} #считает roc_auc для количества деревьев равное tree из цикла\n",
    "\n",
    "time_classifier = {} #время обучения AdaBoostClassifier при количестве деревьев равным tree из цикла\n",
    "\n",
    "for tree in trees:\n",
    "    \n",
    "    start = time.time()\n",
    "    ada = AdaBoostClassifier(n_estimators=tree)\n",
    "    end = time.time()\n",
    "    \n",
    "    time_classifier[tree] = ((end - start)*1000)\n",
    "    \n",
    "    score_accuracy = cross_val_score(ada, data, targets, scoring='accuracy', cv=4)\n",
    "    score_roc_auc = cross_val_score(ada, data, targets, scoring='roc_auc', cv=4)\n",
    "    \n",
    "    ada_scoring_accuracy[tree] = score_accuracy\n",
    "    ada_scoring_roc_auc[tree] = score_roc_auc"
   ]
  },
  {
   "cell_type": "code",
   "execution_count": 214,
   "id": "604bdcb0",
   "metadata": {},
   "outputs": [],
   "source": [
    "for key in ada_scoring_accuracy.keys():\n",
    "    ada_scoring_accuracy[key] = max(list(ada_scoring_accuracy[key]))"
   ]
  },
  {
   "cell_type": "code",
   "execution_count": 215,
   "id": "8f4fcc03",
   "metadata": {},
   "outputs": [],
   "source": [
    "for key in ada_scoring_roc_auc.keys():\n",
    "    ada_scoring_roc_auc[key] = max(list(ada_scoring_roc_auc[key]))"
   ]
  },
  {
   "cell_type": "code",
   "execution_count": 216,
   "id": "527532d0",
   "metadata": {},
   "outputs": [
    {
     "data": {
      "text/plain": [
       "<matplotlib.legend.Legend at 0x2ddbfceae50>"
      ]
     },
     "execution_count": 216,
     "metadata": {},
     "output_type": "execute_result"
    },
    {
     "data": {
      "image/png": "[encoded data removed]",
      "text/plain": [
       "<Figure size 640x480 with 1 Axes>"
      ]
     },
     "metadata": {},
     "output_type": "display_data"
    }
   ],
   "source": [
    "plt.title(\"Ada_Scoring_Accuracy\")\n",
    "plt.plot(ada_scoring_accuracy.keys(), ada_scoring_accuracy.values(), ls=\"--\", color='red', alpha=0.9, label=\"accuracy\")\n",
    "plt.axvspan(70, 100, facecolor=\"blue\", alpha=0.1)\n",
    "plt.axvspan(0, 70, facecolor=\"green\", alpha=0.09)\n",
    "plt.axvspan(100, 120, facecolor=\"green\", alpha=0.09)\n",
    "plt.ylabel(\"Итоговый скор по accuracy\")\n",
    "plt.xlabel(\"Количество деревьев\")\n",
    "plt.grid()\n",
    "plt.legend()"
   ]
  },
  {
   "cell_type": "code",
   "execution_count": 217,
   "id": "4b233c49",
   "metadata": {},
   "outputs": [
    {
     "data": {
      "text/plain": [
       "<matplotlib.legend.Legend at 0x2ddbf0bd690>"
      ]
     },
     "execution_count": 217,
     "metadata": {},
     "output_type": "execute_result"
    },
    {
     "data": {
      "image/png": "[encoded data removed]",
      "text/plain": [
       "<Figure size 640x480 with 1 Axes>"
      ]
     },
     "metadata": {},
     "output_type": "display_data"
    }
   ],
   "source": [
    "plt.title(\"Ada_Scoring_Roc_Auc\")\n",
    "plt.plot(ada_scoring_roc_auc.keys(), ada_scoring_roc_auc.values(), ls=\"--\", color='red', alpha=0.9, label='roc_auc')\n",
    "plt.axvspan(0, 20, facecolor=\"blue\", alpha=0.1)\n",
    "plt.axvspan(100, 120, facecolor=\"blue\", alpha=0.1)\n",
    "plt.ylabel(\"Итоговый скор по roc auc\")\n",
    "plt.xlabel(\"Количество деревьев\")\n",
    "plt.grid()\n",
    "plt.legend()\n",
    "\n",
    "#Так как время одинаковое -> мы можем взять любое количество деревьев, но чисто интуитивно скорее всего время будем меняться\n",
    "#в большую сторону, так как количество деревьев растет -> выберем минимальное количество деревьев"
   ]
  },
  {
   "cell_type": "code",
   "execution_count": 218,
   "id": "191cd418",
   "metadata": {},
   "outputs": [],
   "source": [
    "data_ada = pd.DataFrame([['model_ada (10)', '0.523', '0.895', '0.0 ms', '0.0 ms']])\n",
    "data_ada.columns = ['model', 'roc_auc_score', 'accuracy_score', 'Wall time', 'CPU times']"
   ]
  },
  {
   "cell_type": "code",
   "execution_count": 219,
   "id": "d14add8e",
   "metadata": {},
   "outputs": [
    {
     "data": {
      "text/html": [
       "<div>\n",
       "<style scoped>\n",
       "    .dataframe tbody tr th:only-of-type {\n",
       "        vertical-align: middle;\n",
       "    }\n",
       "\n",
       "    .dataframe tbody tr th {\n",
       "        vertical-align: top;\n",
       "    }\n",
       "\n",
       "    .dataframe thead th {\n",
       "        text-align: right;\n",
       "    }\n",
       "</style>\n",
       "<table border=\"1\" class=\"dataframe\">\n",
       "  <thead>\n",
       "    <tr style=\"text-align: right;\">\n",
       "      <th></th>\n",
       "      <th>model</th>\n",
       "      <th>roc_auc_score</th>\n",
       "      <th>accuracy_score</th>\n",
       "      <th>Wall time</th>\n",
       "      <th>CPU times</th>\n",
       "    </tr>\n",
       "  </thead>\n",
       "  <tbody>\n",
       "    <tr>\n",
       "      <th>0</th>\n",
       "      <td>model_logistic_more_informative_features</td>\n",
       "      <td>0.5</td>\n",
       "      <td>0.8975</td>\n",
       "      <td>88.6 ms</td>\n",
       "      <td>78.1 ms</td>\n",
       "    </tr>\n",
       "    <tr>\n",
       "      <th>1</th>\n",
       "      <td>model_logistic_all_features</td>\n",
       "      <td>0.5</td>\n",
       "      <td>0.8975</td>\n",
       "      <td>164 ms</td>\n",
       "      <td>172 ms</td>\n",
       "    </tr>\n",
       "    <tr>\n",
       "      <th>0</th>\n",
       "      <td>knn_model_3</td>\n",
       "      <td>0.496</td>\n",
       "      <td>0.871</td>\n",
       "      <td>21 ms</td>\n",
       "      <td>15.6 ms</td>\n",
       "    </tr>\n",
       "    <tr>\n",
       "      <th>1</th>\n",
       "      <td>knn_model_4</td>\n",
       "      <td>0.496</td>\n",
       "      <td>0.871</td>\n",
       "      <td>35.1 ms</td>\n",
       "      <td>62.5 ms</td>\n",
       "    </tr>\n",
       "    <tr>\n",
       "      <th>2</th>\n",
       "      <td>knn_model_5</td>\n",
       "      <td>0.496</td>\n",
       "      <td>0.871</td>\n",
       "      <td>27 ms</td>\n",
       "      <td>31.2 ms</td>\n",
       "    </tr>\n",
       "    <tr>\n",
       "      <th>0</th>\n",
       "      <td>nb_gaussianNB</td>\n",
       "      <td>0.5</td>\n",
       "      <td>0.8975</td>\n",
       "      <td>6.88 ms</td>\n",
       "      <td>0 ns</td>\n",
       "    </tr>\n",
       "    <tr>\n",
       "      <th>0</th>\n",
       "      <td>model_db</td>\n",
       "      <td>0.500217</td>\n",
       "      <td>0.801</td>\n",
       "      <td>169 ms</td>\n",
       "      <td>172 ms</td>\n",
       "    </tr>\n",
       "    <tr>\n",
       "      <th>0</th>\n",
       "      <td>model_ada (10)</td>\n",
       "      <td>0.523</td>\n",
       "      <td>0.895</td>\n",
       "      <td>0.0 ms</td>\n",
       "      <td>0.0 ms</td>\n",
       "    </tr>\n",
       "  </tbody>\n",
       "</table>\n",
       "</div>"
      ],
      "text/plain": [
       "                                      model roc_auc_score accuracy_score  \\\n",
       "0  model_logistic_more_informative_features           0.5         0.8975   \n",
       "1               model_logistic_all_features           0.5         0.8975   \n",
       "0                               knn_model_3         0.496          0.871   \n",
       "1                               knn_model_4         0.496          0.871   \n",
       "2                               knn_model_5         0.496          0.871   \n",
       "0                             nb_gaussianNB           0.5         0.8975   \n",
       "0                                  model_db      0.500217          0.801   \n",
       "0                            model_ada (10)         0.523          0.895   \n",
       "\n",
       "  Wall time CPU times  \n",
       "0   88.6 ms   78.1 ms  \n",
       "1    164 ms    172 ms  \n",
       "0     21 ms   15.6 ms  \n",
       "1   35.1 ms   62.5 ms  \n",
       "2     27 ms   31.2 ms  \n",
       "0   6.88 ms      0 ns  \n",
       "0    169 ms    172 ms  \n",
       "0    0.0 ms    0.0 ms  "
      ]
     },
     "execution_count": 219,
     "metadata": {},
     "output_type": "execute_result"
    }
   ],
   "source": [
    "df_result_model = df_result_model.append(data_ada)\n",
    "df_result_model"
   ]
  },
  {
   "cell_type": "code",
   "execution_count": 220,
   "id": "8d4bb24a",
   "metadata": {},
   "outputs": [],
   "source": [
    "import time\n",
    "\n",
    "X = data_result[['Card Type', 'Gender', 'Geography', 'Surname', 'CreditScore', 'Age', 'Satisfaction Score', 'Point Earned']]\n",
    "Y = data_result['Tenure_value']\n",
    "\n",
    "trees = [1] + list(range(10, 130, 10))\n",
    "targets = Y\n",
    "data = X\n",
    "\n",
    "gbc_scoring_accuracy = {} #считаем accuracy для количества деревьев равное tree из цикла\n",
    "gbc_scoring_roc_auc = {} #считает roc_auc для количества деревьев равное tree из цикла\n",
    "\n",
    "time_classifier = {} #время обучения GradientBoostingClassifier при количестве деревьев равным tree из цикла\n",
    "\n",
    "for tree in trees:\n",
    "    \n",
    "    start = time.time()\n",
    "    gbc = GradientBoostingClassifier(n_estimators=tree)\n",
    "    end = time.time()\n",
    "    \n",
    "    time_classifier[tree] = ((end - start)*1000)\n",
    "    \n",
    "    score_accuracy = cross_val_score(gbc, data, targets, scoring='accuracy', cv=4)\n",
    "    score_roc_auc = cross_val_score(gbc, data, targets, scoring='roc_auc', cv=4)\n",
    "    \n",
    "    gbc_scoring_accuracy[tree] = score_accuracy\n",
    "    gbc_scoring_roc_auc[tree] = score_roc_auc"
   ]
  },
  {
   "cell_type": "code",
   "execution_count": 221,
   "id": "8b803371",
   "metadata": {},
   "outputs": [],
   "source": [
    "for key in gbc_scoring_roc_auc.keys():\n",
    "    gbc_scoring_roc_auc[key] = max(list(gbc_scoring_roc_auc[key]))"
   ]
  },
  {
   "cell_type": "code",
   "execution_count": 222,
   "id": "87de6174",
   "metadata": {},
   "outputs": [],
   "source": [
    "for key in gbc_scoring_accuracy.keys():\n",
    "    gbc_scoring_accuracy[key] = max(list(gbc_scoring_accuracy[key]))"
   ]
  },
  {
   "cell_type": "code",
   "execution_count": 223,
   "id": "8ef27372",
   "metadata": {},
   "outputs": [
    {
     "data": {
      "text/plain": [
       "{1: 0.8952,\n",
       " 10: 0.8952,\n",
       " 20: 0.8952,\n",
       " 30: 0.8952,\n",
       " 40: 0.8952,\n",
       " 50: 0.8952,\n",
       " 60: 0.8952,\n",
       " 70: 0.8952,\n",
       " 80: 0.8948,\n",
       " 90: 0.8948,\n",
       " 100: 0.8948,\n",
       " 110: 0.8948,\n",
       " 120: 0.8948}"
      ]
     },
     "execution_count": 223,
     "metadata": {},
     "output_type": "execute_result"
    }
   ],
   "source": [
    "gbc_scoring_accuracy"
   ]
  },
  {
   "cell_type": "code",
   "execution_count": 224,
   "id": "8f6a66ee",
   "metadata": {},
   "outputs": [
    {
     "data": {
      "text/plain": [
       "{1: 0.5139181657559572,\n",
       " 10: 0.5162358703586216,\n",
       " 20: 0.4970836829502896,\n",
       " 30: 0.49951650533123226,\n",
       " 40: 0.4989366528184243,\n",
       " 50: 0.4936898403017962,\n",
       " 60: 0.48865365068320266,\n",
       " 70: 0.4840685522106024,\n",
       " 80: 0.4854448492042377,\n",
       " 90: 0.4874999147275717,\n",
       " 100: 0.48840209701955806,\n",
       " 110: 0.4885103930035678,\n",
       " 120: 0.4901297164180123}"
      ]
     },
     "execution_count": 224,
     "metadata": {},
     "output_type": "execute_result"
    }
   ],
   "source": [
    "gbc_scoring_roc_auc"
   ]
  },
  {
   "cell_type": "code",
   "execution_count": 225,
   "id": "3fc04736",
   "metadata": {},
   "outputs": [
    {
     "data": {
      "text/plain": [
       "<matplotlib.legend.Legend at 0x2ddc03bbdd0>"
      ]
     },
     "execution_count": 225,
     "metadata": {},
     "output_type": "execute_result"
    },
    {
     "data": {
      "image/png": "[encoded data removed]",
      "text/plain": [
       "<Figure size 640x480 with 1 Axes>"
      ]
     },
     "metadata": {},
     "output_type": "display_data"
    }
   ],
   "source": [
    "plt.title(\"Gbc_Scoring_Accuracy\")\n",
    "plt.plot(gbc_scoring_accuracy.keys(), gbc_scoring_accuracy.values(), ls=\"--\", color='red', alpha=0.9, label=\"accuracy\")\n",
    "plt.ylabel(\"Итоговый скор по accuracy\")\n",
    "plt.xlabel(\"Количество деревьев\")\n",
    "plt.grid()\n",
    "plt.legend()"
   ]
  },
  {
   "cell_type": "code",
   "execution_count": 226,
   "id": "4d3b4695",
   "metadata": {},
   "outputs": [
    {
     "data": {
      "text/plain": [
       "<matplotlib.legend.Legend at 0x2ddbfc9bc50>"
      ]
     },
     "execution_count": 226,
     "metadata": {},
     "output_type": "execute_result"
    },
    {
     "data": {
      "image/png": "[encoded data removed]",
      "text/plain": [
       "<Figure size 640x480 with 1 Axes>"
      ]
     },
     "metadata": {},
     "output_type": "display_data"
    }
   ],
   "source": [
    "plt.title(\"Gbc_Scoring_Roc_Auc\")\n",
    "plt.plot(gbc_scoring_roc_auc.keys(), gbc_scoring_roc_auc.values(), ls=\"--\", color='red', alpha=0.9, label=\"roc_auc\")\n",
    "plt.axvspan(0, 20, facecolor=\"blue\", alpha=0.1)\n",
    "plt.ylabel(\"Итоговый скор по roc auc\")\n",
    "plt.xlabel(\"Количество деревьев\")\n",
    "plt.grid()\n",
    "plt.legend()"
   ]
  },
  {
   "cell_type": "code",
   "execution_count": 227,
   "id": "b34a2da5",
   "metadata": {},
   "outputs": [
    {
     "data": {
      "text/html": [
       "<div>\n",
       "<style scoped>\n",
       "    .dataframe tbody tr th:only-of-type {\n",
       "        vertical-align: middle;\n",
       "    }\n",
       "\n",
       "    .dataframe tbody tr th {\n",
       "        vertical-align: top;\n",
       "    }\n",
       "\n",
       "    .dataframe thead th {\n",
       "        text-align: right;\n",
       "    }\n",
       "</style>\n",
       "<table border=\"1\" class=\"dataframe\">\n",
       "  <thead>\n",
       "    <tr style=\"text-align: right;\">\n",
       "      <th></th>\n",
       "      <th>model</th>\n",
       "      <th>roc_auc_score</th>\n",
       "      <th>accuracy_score</th>\n",
       "      <th>Wall time</th>\n",
       "      <th>CPU times</th>\n",
       "    </tr>\n",
       "  </thead>\n",
       "  <tbody>\n",
       "    <tr>\n",
       "      <th>0</th>\n",
       "      <td>model_logistic_more_informative_features</td>\n",
       "      <td>0.5</td>\n",
       "      <td>0.8975</td>\n",
       "      <td>88.6 ms</td>\n",
       "      <td>78.1 ms</td>\n",
       "    </tr>\n",
       "    <tr>\n",
       "      <th>1</th>\n",
       "      <td>model_logistic_all_features</td>\n",
       "      <td>0.5</td>\n",
       "      <td>0.8975</td>\n",
       "      <td>164 ms</td>\n",
       "      <td>172 ms</td>\n",
       "    </tr>\n",
       "    <tr>\n",
       "      <th>0</th>\n",
       "      <td>knn_model_3</td>\n",
       "      <td>0.496</td>\n",
       "      <td>0.871</td>\n",
       "      <td>21 ms</td>\n",
       "      <td>15.6 ms</td>\n",
       "    </tr>\n",
       "    <tr>\n",
       "      <th>1</th>\n",
       "      <td>knn_model_4</td>\n",
       "      <td>0.496</td>\n",
       "      <td>0.871</td>\n",
       "      <td>35.1 ms</td>\n",
       "      <td>62.5 ms</td>\n",
       "    </tr>\n",
       "    <tr>\n",
       "      <th>2</th>\n",
       "      <td>knn_model_5</td>\n",
       "      <td>0.496</td>\n",
       "      <td>0.871</td>\n",
       "      <td>27 ms</td>\n",
       "      <td>31.2 ms</td>\n",
       "    </tr>\n",
       "    <tr>\n",
       "      <th>0</th>\n",
       "      <td>nb_gaussianNB</td>\n",
       "      <td>0.5</td>\n",
       "      <td>0.8975</td>\n",
       "      <td>6.88 ms</td>\n",
       "      <td>0 ns</td>\n",
       "    </tr>\n",
       "    <tr>\n",
       "      <th>0</th>\n",
       "      <td>model_db</td>\n",
       "      <td>0.500217</td>\n",
       "      <td>0.801</td>\n",
       "      <td>169 ms</td>\n",
       "      <td>172 ms</td>\n",
       "    </tr>\n",
       "    <tr>\n",
       "      <th>0</th>\n",
       "      <td>model_ada (10)</td>\n",
       "      <td>0.523</td>\n",
       "      <td>0.895</td>\n",
       "      <td>0.0 ms</td>\n",
       "      <td>0.0 ms</td>\n",
       "    </tr>\n",
       "  </tbody>\n",
       "</table>\n",
       "</div>"
      ],
      "text/plain": [
       "                                      model roc_auc_score accuracy_score  \\\n",
       "0  model_logistic_more_informative_features           0.5         0.8975   \n",
       "1               model_logistic_all_features           0.5         0.8975   \n",
       "0                               knn_model_3         0.496          0.871   \n",
       "1                               knn_model_4         0.496          0.871   \n",
       "2                               knn_model_5         0.496          0.871   \n",
       "0                             nb_gaussianNB           0.5         0.8975   \n",
       "0                                  model_db      0.500217          0.801   \n",
       "0                            model_ada (10)         0.523          0.895   \n",
       "\n",
       "  Wall time CPU times  \n",
       "0   88.6 ms   78.1 ms  \n",
       "1    164 ms    172 ms  \n",
       "0     21 ms   15.6 ms  \n",
       "1   35.1 ms   62.5 ms  \n",
       "2     27 ms   31.2 ms  \n",
       "0   6.88 ms      0 ns  \n",
       "0    169 ms    172 ms  \n",
       "0    0.0 ms    0.0 ms  "
      ]
     },
     "execution_count": 227,
     "metadata": {},
     "output_type": "execute_result"
    }
   ],
   "source": [
    "df_result_model"
   ]
  },
  {
   "cell_type": "code",
   "execution_count": 228,
   "id": "b37f3666",
   "metadata": {},
   "outputs": [],
   "source": [
    "data_gbc = pd.DataFrame([['gbc', '0.52', '0.895', '0.0 ms', '0.0 ms']])\n",
    "data_gbc.columns = ['model', 'roc_auc_score', 'accuracy_score', 'Wall time', 'CPU times']"
   ]
  },
  {
   "cell_type": "code",
   "execution_count": 229,
   "id": "f6a6fd9b",
   "metadata": {},
   "outputs": [
    {
     "data": {
      "text/html": [
       "<div>\n",
       "<style scoped>\n",
       "    .dataframe tbody tr th:only-of-type {\n",
       "        vertical-align: middle;\n",
       "    }\n",
       "\n",
       "    .dataframe tbody tr th {\n",
       "        vertical-align: top;\n",
       "    }\n",
       "\n",
       "    .dataframe thead th {\n",
       "        text-align: right;\n",
       "    }\n",
       "</style>\n",
       "<table border=\"1\" class=\"dataframe\">\n",
       "  <thead>\n",
       "    <tr style=\"text-align: right;\">\n",
       "      <th></th>\n",
       "      <th>model</th>\n",
       "      <th>roc_auc_score</th>\n",
       "      <th>accuracy_score</th>\n",
       "      <th>Wall time</th>\n",
       "      <th>CPU times</th>\n",
       "    </tr>\n",
       "  </thead>\n",
       "  <tbody>\n",
       "    <tr>\n",
       "      <th>0</th>\n",
       "      <td>gbc</td>\n",
       "      <td>0.52</td>\n",
       "      <td>0.895</td>\n",
       "      <td>0.0 ms</td>\n",
       "      <td>0.0 ms</td>\n",
       "    </tr>\n",
       "  </tbody>\n",
       "</table>\n",
       "</div>"
      ],
      "text/plain": [
       "  model roc_auc_score accuracy_score Wall time CPU times\n",
       "0   gbc          0.52          0.895    0.0 ms    0.0 ms"
      ]
     },
     "execution_count": 229,
     "metadata": {},
     "output_type": "execute_result"
    }
   ],
   "source": [
    "data_gbc"
   ]
  },
  {
   "cell_type": "code",
   "execution_count": 230,
   "id": "92a2d40e",
   "metadata": {},
   "outputs": [
    {
     "data": {
      "text/html": [
       "<div>\n",
       "<style scoped>\n",
       "    .dataframe tbody tr th:only-of-type {\n",
       "        vertical-align: middle;\n",
       "    }\n",
       "\n",
       "    .dataframe tbody tr th {\n",
       "        vertical-align: top;\n",
       "    }\n",
       "\n",
       "    .dataframe thead th {\n",
       "        text-align: right;\n",
       "    }\n",
       "</style>\n",
       "<table border=\"1\" class=\"dataframe\">\n",
       "  <thead>\n",
       "    <tr style=\"text-align: right;\">\n",
       "      <th></th>\n",
       "      <th>model</th>\n",
       "      <th>roc_auc_score</th>\n",
       "      <th>accuracy_score</th>\n",
       "      <th>Wall time</th>\n",
       "      <th>CPU times</th>\n",
       "    </tr>\n",
       "  </thead>\n",
       "  <tbody>\n",
       "    <tr>\n",
       "      <th>0</th>\n",
       "      <td>model_logistic_more_informative_features</td>\n",
       "      <td>0.5</td>\n",
       "      <td>0.8975</td>\n",
       "      <td>88.6 ms</td>\n",
       "      <td>78.1 ms</td>\n",
       "    </tr>\n",
       "    <tr>\n",
       "      <th>1</th>\n",
       "      <td>model_logistic_all_features</td>\n",
       "      <td>0.5</td>\n",
       "      <td>0.8975</td>\n",
       "      <td>164 ms</td>\n",
       "      <td>172 ms</td>\n",
       "    </tr>\n",
       "    <tr>\n",
       "      <th>0</th>\n",
       "      <td>knn_model_3</td>\n",
       "      <td>0.496</td>\n",
       "      <td>0.871</td>\n",
       "      <td>21 ms</td>\n",
       "      <td>15.6 ms</td>\n",
       "    </tr>\n",
       "    <tr>\n",
       "      <th>1</th>\n",
       "      <td>knn_model_4</td>\n",
       "      <td>0.496</td>\n",
       "      <td>0.871</td>\n",
       "      <td>35.1 ms</td>\n",
       "      <td>62.5 ms</td>\n",
       "    </tr>\n",
       "    <tr>\n",
       "      <th>2</th>\n",
       "      <td>knn_model_5</td>\n",
       "      <td>0.496</td>\n",
       "      <td>0.871</td>\n",
       "      <td>27 ms</td>\n",
       "      <td>31.2 ms</td>\n",
       "    </tr>\n",
       "    <tr>\n",
       "      <th>0</th>\n",
       "      <td>nb_gaussianNB</td>\n",
       "      <td>0.5</td>\n",
       "      <td>0.8975</td>\n",
       "      <td>6.88 ms</td>\n",
       "      <td>0 ns</td>\n",
       "    </tr>\n",
       "    <tr>\n",
       "      <th>0</th>\n",
       "      <td>model_db</td>\n",
       "      <td>0.500217</td>\n",
       "      <td>0.801</td>\n",
       "      <td>169 ms</td>\n",
       "      <td>172 ms</td>\n",
       "    </tr>\n",
       "    <tr>\n",
       "      <th>0</th>\n",
       "      <td>model_ada (10)</td>\n",
       "      <td>0.523</td>\n",
       "      <td>0.895</td>\n",
       "      <td>0.0 ms</td>\n",
       "      <td>0.0 ms</td>\n",
       "    </tr>\n",
       "    <tr>\n",
       "      <th>0</th>\n",
       "      <td>gbc</td>\n",
       "      <td>0.52</td>\n",
       "      <td>0.895</td>\n",
       "      <td>0.0 ms</td>\n",
       "      <td>0.0 ms</td>\n",
       "    </tr>\n",
       "  </tbody>\n",
       "</table>\n",
       "</div>"
      ],
      "text/plain": [
       "                                      model roc_auc_score accuracy_score  \\\n",
       "0  model_logistic_more_informative_features           0.5         0.8975   \n",
       "1               model_logistic_all_features           0.5         0.8975   \n",
       "0                               knn_model_3         0.496          0.871   \n",
       "1                               knn_model_4         0.496          0.871   \n",
       "2                               knn_model_5         0.496          0.871   \n",
       "0                             nb_gaussianNB           0.5         0.8975   \n",
       "0                                  model_db      0.500217          0.801   \n",
       "0                            model_ada (10)         0.523          0.895   \n",
       "0                                       gbc          0.52          0.895   \n",
       "\n",
       "  Wall time CPU times  \n",
       "0   88.6 ms   78.1 ms  \n",
       "1    164 ms    172 ms  \n",
       "0     21 ms   15.6 ms  \n",
       "1   35.1 ms   62.5 ms  \n",
       "2     27 ms   31.2 ms  \n",
       "0   6.88 ms      0 ns  \n",
       "0    169 ms    172 ms  \n",
       "0    0.0 ms    0.0 ms  \n",
       "0    0.0 ms    0.0 ms  "
      ]
     },
     "execution_count": 230,
     "metadata": {},
     "output_type": "execute_result"
    }
   ],
   "source": [
    "df_result_model = df_result_model.append(data_gbc)\n",
    "df_result_model"
   ]
  },
  {
   "cell_type": "code",
   "execution_count": 231,
   "id": "46a92914",
   "metadata": {},
   "outputs": [],
   "source": [
    "import time\n",
    "\n",
    "X = data_result[['Card Type', 'Gender', 'Geography', 'Surname', 'CreditScore', 'Age', 'Satisfaction Score', 'Point Earned']]\n",
    "Y = data_result['Tenure_value']\n",
    "\n",
    "trees = [1] + list(range(10, 130, 10))\n",
    "targets = Y\n",
    "data = X\n",
    "\n",
    "xgb_scoring_accuracy = {} #считаем accuracy для количества деревьев равное tree из цикла\n",
    "xgb_scoring_roc_auc = {} #считает roc_auc для количества деревьев равное tree из цикла\n",
    "\n",
    "time_classifier = {} #время обучения XGBClassifier при количестве деревьев равным tree из цикла\n",
    "\n",
    "for tree in trees:\n",
    "    \n",
    "    start = time.time()\n",
    "    xgb = XGBClassifier(n_estimators=tree)\n",
    "    end = time.time()\n",
    "    \n",
    "    time_classifier[tree] = ((end - start)*1000)\n",
    "    \n",
    "    score_accuracy = cross_val_score(xgb, data, targets, scoring='accuracy', cv=4)\n",
    "    score_roc_auc = cross_val_score(xgb, data, targets, scoring='roc_auc', cv=4)\n",
    "    \n",
    "    xgb_scoring_accuracy[tree] = score_accuracy\n",
    "    xgb_scoring_roc_auc[tree] = score_roc_auc"
   ]
  },
  {
   "cell_type": "code",
   "execution_count": 232,
   "id": "057bca49",
   "metadata": {},
   "outputs": [
    {
     "data": {
      "text/plain": [
       "{1: array([0.8928, 0.89  , 0.8936, 0.7592]),\n",
       " 10: array([0.8952, 0.8952, 0.8948, 0.7592]),\n",
       " 20: array([0.8944, 0.8948, 0.8948, 0.776 ]),\n",
       " 30: array([0.8936, 0.8944, 0.894 , 0.796 ]),\n",
       " 40: array([0.894 , 0.8924, 0.894 , 0.7928]),\n",
       " 50: array([0.8924, 0.8928, 0.8928, 0.788 ]),\n",
       " 60: array([0.892 , 0.8924, 0.892 , 0.794 ]),\n",
       " 70: array([0.8928, 0.8908, 0.8912, 0.7916]),\n",
       " 80: array([0.8924, 0.8908, 0.8904, 0.7944]),\n",
       " 90: array([0.8912, 0.8908, 0.8904, 0.7904]),\n",
       " 100: array([0.8904, 0.8912, 0.8892, 0.7944]),\n",
       " 110: array([0.8892, 0.8888, 0.8896, 0.7848]),\n",
       " 120: array([0.888 , 0.8876, 0.888 , 0.7864])}"
      ]
     },
     "execution_count": 232,
     "metadata": {},
     "output_type": "execute_result"
    }
   ],
   "source": [
    "xgb_scoring_accuracy"
   ]
  },
  {
   "cell_type": "code",
   "execution_count": 233,
   "id": "1a723426",
   "metadata": {},
   "outputs": [
    {
     "data": {
      "text/plain": [
       "{1: array([0.48459127, 0.47671295, 0.49989853, 0.4964936 ]),\n",
       " 10: array([0.50846499, 0.50369059, 0.50417238, 0.49274673]),\n",
       " 20: array([0.50193057, 0.49439419, 0.48685184, 0.49648251]),\n",
       " 30: array([0.50154258, 0.49356961, 0.50217189, 0.48654231]),\n",
       " 40: array([0.49094833, 0.49167997, 0.49261882, 0.49176268]),\n",
       " 50: array([0.49535606, 0.49256083, 0.4994048 , 0.49124082]),\n",
       " 60: array([0.49672383, 0.49016724, 0.50174297, 0.49113508]),\n",
       " 70: array([0.49761578, 0.49374953, 0.49974418, 0.48587206]),\n",
       " 80: array([0.49157167, 0.49127834, 0.50086466, 0.48654572]),\n",
       " 90: array([0.48994126, 0.49002313, 0.49775563, 0.48896745]),\n",
       " 100: array([0.49821269, 0.4897639 , 0.49885223, 0.48869288]),\n",
       " 110: array([0.49381775, 0.48847458, 0.50268779, 0.48730635]),\n",
       " 120: array([0.49517188, 0.48794248, 0.50277135, 0.49066779])}"
      ]
     },
     "execution_count": 233,
     "metadata": {},
     "output_type": "execute_result"
    }
   ],
   "source": [
    "xgb_scoring_roc_auc"
   ]
  },
  {
   "cell_type": "code",
   "execution_count": 234,
   "id": "1d52cf99",
   "metadata": {},
   "outputs": [
    {
     "data": {
      "text/plain": [
       "{1: 0.0,\n",
       " 10: 0.0,\n",
       " 20: 0.0,\n",
       " 30: 0.0,\n",
       " 40: 0.0,\n",
       " 50: 0.0,\n",
       " 60: 0.0,\n",
       " 70: 0.0,\n",
       " 80: 0.0,\n",
       " 90: 0.0,\n",
       " 100: 0.0,\n",
       " 110: 0.0,\n",
       " 120: 0.0}"
      ]
     },
     "execution_count": 234,
     "metadata": {},
     "output_type": "execute_result"
    }
   ],
   "source": [
    "time_classifier"
   ]
  },
  {
   "cell_type": "code",
   "execution_count": 235,
   "id": "c49d2f94",
   "metadata": {},
   "outputs": [],
   "source": [
    "for key in xgb_scoring_roc_auc.keys():\n",
    "    xgb_scoring_roc_auc[key] = max(list(xgb_scoring_roc_auc[key]))"
   ]
  },
  {
   "cell_type": "code",
   "execution_count": 236,
   "id": "8e6851a7",
   "metadata": {},
   "outputs": [],
   "source": [
    "for key in xgb_scoring_accuracy.keys():\n",
    "    xgb_scoring_accuracy[key] = max(list(xgb_scoring_accuracy[key]))"
   ]
  },
  {
   "cell_type": "code",
   "execution_count": 237,
   "id": "5aae9ab7",
   "metadata": {},
   "outputs": [
    {
     "data": {
      "text/plain": [
       "<matplotlib.legend.Legend at 0x2ddb77e2e50>"
      ]
     },
     "execution_count": 237,
     "metadata": {},
     "output_type": "execute_result"
    },
    {
     "data": {
      "image/png": "[encoded data removed]",
      "text/plain": [
       "<Figure size 640x480 with 1 Axes>"
      ]
     },
     "metadata": {},
     "output_type": "display_data"
    }
   ],
   "source": [
    "plt.title(\"Xgb_Scoring_Roc_Auc\")\n",
    "plt.plot(xgb_scoring_roc_auc.keys(), xgb_scoring_roc_auc.values(), ls=\"--\", color='red', alpha=0.9, label=\"roc_auc\")\n",
    "plt.axvspan(0, 30, facecolor=\"blue\", alpha=0.1)\n",
    "plt.axvspan(80, 120, facecolor=\"blue\", alpha=0.1)\n",
    "plt.ylabel(\"Итоговый скор по roc auc\")\n",
    "plt.xlabel(\"Количество деревьев\")\n",
    "plt.grid()\n",
    "plt.legend()"
   ]
  },
  {
   "cell_type": "code",
   "execution_count": 238,
   "id": "c0ad5936",
   "metadata": {},
   "outputs": [
    {
     "data": {
      "text/plain": [
       "<matplotlib.legend.Legend at 0x2ddbfd5ae50>"
      ]
     },
     "execution_count": 238,
     "metadata": {},
     "output_type": "execute_result"
    },
    {
     "data": {
      "image/png": "[encoded data removed]",
      "text/plain": [
       "<Figure size 640x480 with 1 Axes>"
      ]
     },
     "metadata": {},
     "output_type": "display_data"
    }
   ],
   "source": [
    "plt.title(\"Xgb_Scoring_Accuracy\")\n",
    "plt.plot(xgb_scoring_accuracy.keys(), xgb_scoring_accuracy.values(), ls=\"--\", color='red', alpha=0.9, label=\"accuracy\")\n",
    "plt.ylabel(\"Итоговый скор по accuracy\")\n",
    "plt.axvspan(0, 80, facecolor=\"blue\", alpha=0.1)\n",
    "plt.xlabel(\"Количество деревьев\")\n",
    "plt.grid()\n",
    "plt.legend()"
   ]
  },
  {
   "cell_type": "code",
   "execution_count": 239,
   "id": "e5b6b549",
   "metadata": {},
   "outputs": [],
   "source": [
    "data_xgb = pd.DataFrame([['xgb', '0.508', '0.895', '0 ms', '0.996 ms']])\n",
    "data_xgb.columns = ['model', 'roc_auc_score', 'accuracy_score', 'Wall time', 'CPU times']"
   ]
  },
  {
   "cell_type": "code",
   "execution_count": 240,
   "id": "94b284ec",
   "metadata": {},
   "outputs": [
    {
     "data": {
      "text/html": [
       "<div>\n",
       "<style scoped>\n",
       "    .dataframe tbody tr th:only-of-type {\n",
       "        vertical-align: middle;\n",
       "    }\n",
       "\n",
       "    .dataframe tbody tr th {\n",
       "        vertical-align: top;\n",
       "    }\n",
       "\n",
       "    .dataframe thead th {\n",
       "        text-align: right;\n",
       "    }\n",
       "</style>\n",
       "<table border=\"1\" class=\"dataframe\">\n",
       "  <thead>\n",
       "    <tr style=\"text-align: right;\">\n",
       "      <th></th>\n",
       "      <th>model</th>\n",
       "      <th>roc_auc_score</th>\n",
       "      <th>accuracy_score</th>\n",
       "      <th>Wall time</th>\n",
       "      <th>CPU times</th>\n",
       "    </tr>\n",
       "  </thead>\n",
       "  <tbody>\n",
       "    <tr>\n",
       "      <th>0</th>\n",
       "      <td>model_logistic_more_informative_features</td>\n",
       "      <td>0.5</td>\n",
       "      <td>0.8975</td>\n",
       "      <td>88.6 ms</td>\n",
       "      <td>78.1 ms</td>\n",
       "    </tr>\n",
       "    <tr>\n",
       "      <th>1</th>\n",
       "      <td>model_logistic_all_features</td>\n",
       "      <td>0.5</td>\n",
       "      <td>0.8975</td>\n",
       "      <td>164 ms</td>\n",
       "      <td>172 ms</td>\n",
       "    </tr>\n",
       "    <tr>\n",
       "      <th>0</th>\n",
       "      <td>knn_model_3</td>\n",
       "      <td>0.496</td>\n",
       "      <td>0.871</td>\n",
       "      <td>21 ms</td>\n",
       "      <td>15.6 ms</td>\n",
       "    </tr>\n",
       "    <tr>\n",
       "      <th>1</th>\n",
       "      <td>knn_model_4</td>\n",
       "      <td>0.496</td>\n",
       "      <td>0.871</td>\n",
       "      <td>35.1 ms</td>\n",
       "      <td>62.5 ms</td>\n",
       "    </tr>\n",
       "    <tr>\n",
       "      <th>2</th>\n",
       "      <td>knn_model_5</td>\n",
       "      <td>0.496</td>\n",
       "      <td>0.871</td>\n",
       "      <td>27 ms</td>\n",
       "      <td>31.2 ms</td>\n",
       "    </tr>\n",
       "    <tr>\n",
       "      <th>0</th>\n",
       "      <td>nb_gaussianNB</td>\n",
       "      <td>0.5</td>\n",
       "      <td>0.8975</td>\n",
       "      <td>6.88 ms</td>\n",
       "      <td>0 ns</td>\n",
       "    </tr>\n",
       "    <tr>\n",
       "      <th>0</th>\n",
       "      <td>model_db</td>\n",
       "      <td>0.500217</td>\n",
       "      <td>0.801</td>\n",
       "      <td>169 ms</td>\n",
       "      <td>172 ms</td>\n",
       "    </tr>\n",
       "    <tr>\n",
       "      <th>0</th>\n",
       "      <td>model_ada (10)</td>\n",
       "      <td>0.523</td>\n",
       "      <td>0.895</td>\n",
       "      <td>0.0 ms</td>\n",
       "      <td>0.0 ms</td>\n",
       "    </tr>\n",
       "    <tr>\n",
       "      <th>0</th>\n",
       "      <td>gbc</td>\n",
       "      <td>0.52</td>\n",
       "      <td>0.895</td>\n",
       "      <td>0.0 ms</td>\n",
       "      <td>0.0 ms</td>\n",
       "    </tr>\n",
       "    <tr>\n",
       "      <th>0</th>\n",
       "      <td>xgb</td>\n",
       "      <td>0.508</td>\n",
       "      <td>0.895</td>\n",
       "      <td>0 ms</td>\n",
       "      <td>0.996 ms</td>\n",
       "    </tr>\n",
       "  </tbody>\n",
       "</table>\n",
       "</div>"
      ],
      "text/plain": [
       "                                      model roc_auc_score accuracy_score  \\\n",
       "0  model_logistic_more_informative_features           0.5         0.8975   \n",
       "1               model_logistic_all_features           0.5         0.8975   \n",
       "0                               knn_model_3         0.496          0.871   \n",
       "1                               knn_model_4         0.496          0.871   \n",
       "2                               knn_model_5         0.496          0.871   \n",
       "0                             nb_gaussianNB           0.5         0.8975   \n",
       "0                                  model_db      0.500217          0.801   \n",
       "0                            model_ada (10)         0.523          0.895   \n",
       "0                                       gbc          0.52          0.895   \n",
       "0                                       xgb         0.508          0.895   \n",
       "\n",
       "  Wall time CPU times  \n",
       "0   88.6 ms   78.1 ms  \n",
       "1    164 ms    172 ms  \n",
       "0     21 ms   15.6 ms  \n",
       "1   35.1 ms   62.5 ms  \n",
       "2     27 ms   31.2 ms  \n",
       "0   6.88 ms      0 ns  \n",
       "0    169 ms    172 ms  \n",
       "0    0.0 ms    0.0 ms  \n",
       "0    0.0 ms    0.0 ms  \n",
       "0      0 ms  0.996 ms  "
      ]
     },
     "execution_count": 240,
     "metadata": {},
     "output_type": "execute_result"
    }
   ],
   "source": [
    "df_result_model = df_result_model.append(data_xgb)\n",
    "df_result_model"
   ]
  }
 ],
 "metadata": {
  "kernelspec": {
   "display_name": "Python 3 (ipykernel)",
   "language": "python",
   "name": "python3"
  },
  "language_info": {
   "codemirror_mode": {
    "name": "ipython",
    "version": 3
   },
   "file_extension": ".py",
   "mimetype": "text/x-python",
   "name": "python",
   "nbconvert_exporter": "python",
   "pygments_lexer": "ipython3",
   "version": "3.11.3"
  }
 },
 "nbformat": 4,
 "nbformat_minor": 5
}
